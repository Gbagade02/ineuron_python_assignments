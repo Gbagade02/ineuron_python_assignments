{
 "cells": [
  {
   "cell_type": "markdown",
   "id": "602735ce",
   "metadata": {},
   "source": [
    "### 1. What advantages do Excel spreadsheets have over CSV spreadsheets?"
   ]
  },
  {
   "cell_type": "markdown",
   "id": "aaa4943c",
   "metadata": {},
   "source": [
    "Excel spreadsheet have many of the features over CSV. For example, Excel files:\n",
    "\n",
    "Do have types for their values—everything is a string<br>\n",
    "Do have settings for font size or color<br>\n",
    "Do have multiple worksheets<br>\n",
    "Can specify cell widths and heights<br>\n",
    "Can have merged cells<br>\n",
    "Can have images or charts embedded in them\n"
   ]
  },
  {
   "cell_type": "markdown",
   "id": "96d96eae",
   "metadata": {},
   "source": [
    "### 2.What do you pass to csv.reader() and csv.writer() to create reader and writer objects?"
   ]
  },
  {
   "cell_type": "markdown",
   "id": "c5a4ca8b",
   "metadata": {},
   "source": [
    "To write a CSV file with the csv module, First, call open() and pass it 'w' to open a file in write mode, and it create a object .That object pass in csv.writer()"
   ]
  },
  {
   "cell_type": "markdown",
   "id": "cec6830b",
   "metadata": {},
   "source": [
    "write_file = open('filename.csv','w')<br>\n",
    "\n",
    "Writer = csv.writer(write_file)"
   ]
  },
  {
   "cell_type": "markdown",
   "id": "708de15a",
   "metadata": {},
   "source": [
    "To read a CSV file with the csv module, first open it using the open() function and it create a object .That object pass in csv.reader()"
   ]
  },
  {
   "cell_type": "markdown",
   "id": "8a006907",
   "metadata": {},
   "source": [
    "read_file = open('filename.csv')<br>\n",
    "Reader = csv.reader(read_file)"
   ]
  },
  {
   "cell_type": "markdown",
   "id": "95eca9d4",
   "metadata": {},
   "source": [
    "### 3.What modes do File objects for reader and writer objects need to be opened in?"
   ]
  },
  {
   "cell_type": "markdown",
   "id": "58b894df",
   "metadata": {},
   "source": [
    "File objects need to be opened in read-binary ('rb') for Reader objects and write-binary ('wb') for Writer objects."
   ]
  },
  {
   "cell_type": "markdown",
   "id": "19eb4629",
   "metadata": {},
   "source": [
    "### 4. What method takes a list argument and writes it to a CSV file?"
   ]
  },
  {
   "cell_type": "markdown",
   "id": "e41023e6",
   "metadata": {},
   "source": [
    "The writerow() method\n",
    "\n",
    "write_file = open('filename.csv','w')<br>\n",
    "Writer = csv.writer(write_file)<br>\n",
    "Writer.writerow(['Gaurav','Bagade','hello'])"
   ]
  },
  {
   "cell_type": "markdown",
   "id": "f2b23595",
   "metadata": {},
   "source": [
    "### 5. What do the keyword arguments delimiter and line terminator do?"
   ]
  },
  {
   "cell_type": "markdown",
   "id": "a369f312",
   "metadata": {},
   "source": [
    "The delimiter argument changes the string used to separate cells in a row.\n",
    "\n",
    "The lineterminator argument changes the string used to separate rows."
   ]
  },
  {
   "cell_type": "markdown",
   "id": "2ed9098c",
   "metadata": {},
   "source": [
    "### 6. What function takes a string of JSON data and returns a Python data structure?"
   ]
  },
  {
   "cell_type": "markdown",
   "id": "b345aa06",
   "metadata": {},
   "source": [
    "json.load()"
   ]
  },
  {
   "cell_type": "markdown",
   "id": "b332792b",
   "metadata": {},
   "source": [
    "### 7. What function takes a Python data structure and returns a string of JSON data?"
   ]
  },
  {
   "cell_type": "markdown",
   "id": "43fc3290",
   "metadata": {},
   "source": [
    "json.dumps()"
   ]
  },
  {
   "cell_type": "code",
   "execution_count": null,
   "id": "efcd6244",
   "metadata": {},
   "outputs": [],
   "source": []
  }
 ],
 "metadata": {
  "kernelspec": {
   "display_name": "Python 3",
   "language": "python",
   "name": "python3"
  },
  "language_info": {
   "codemirror_mode": {
    "name": "ipython",
    "version": 3
   },
   "file_extension": ".py",
   "mimetype": "text/x-python",
   "name": "python",
   "nbconvert_exporter": "python",
   "pygments_lexer": "ipython3",
   "version": "3.8.8"
  }
 },
 "nbformat": 4,
 "nbformat_minor": 5
}
