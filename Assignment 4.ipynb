{
 "cells": [
  {
   "cell_type": "markdown",
   "id": "4315f2bb",
   "metadata": {},
   "source": [
    "# Assignment 4 "
   ]
  },
  {
   "cell_type": "markdown",
   "id": "ae987904",
   "metadata": {},
   "source": [
    "1. What exactly is []?"
   ]
  },
  {
   "cell_type": "markdown",
   "id": "8232e19a",
   "metadata": {},
   "source": [
    "[] it means empty list"
   ]
  },
  {
   "cell_type": "code",
   "execution_count": 1,
   "id": "85c77aa5",
   "metadata": {},
   "outputs": [],
   "source": [
    "p = []"
   ]
  },
  {
   "cell_type": "code",
   "execution_count": 2,
   "id": "4e18e0e0",
   "metadata": {},
   "outputs": [
    {
     "data": {
      "text/plain": [
       "[]"
      ]
     },
     "execution_count": 2,
     "metadata": {},
     "output_type": "execute_result"
    }
   ],
   "source": [
    "p"
   ]
  },
  {
   "cell_type": "markdown",
   "id": "d5da3e15",
   "metadata": {},
   "source": [
    "2. In a list of values stored in a variable called spam, how would you assign the value &#39;hello&#39; as the\n",
    "third value? (Assume [2, 4, 6, 8, 10] are in spam.)"
   ]
  },
  {
   "cell_type": "code",
   "execution_count": 3,
   "id": "e01dd059",
   "metadata": {},
   "outputs": [],
   "source": [
    "spam = [2,4,6,8,10]"
   ]
  },
  {
   "cell_type": "code",
   "execution_count": 4,
   "id": "1aec82ca",
   "metadata": {},
   "outputs": [],
   "source": [
    "spam[2] = 'hello'"
   ]
  },
  {
   "cell_type": "code",
   "execution_count": 5,
   "id": "d3dfd98b",
   "metadata": {},
   "outputs": [
    {
     "data": {
      "text/plain": [
       "[2, 4, 'hello', 8, 10]"
      ]
     },
     "execution_count": 5,
     "metadata": {},
     "output_type": "execute_result"
    }
   ],
   "source": [
    "spam"
   ]
  },
  {
   "cell_type": "markdown",
   "id": "ee6c0bd8",
   "metadata": {},
   "source": [
    "Let&#39;s pretend the spam includes the list [&#39;a&#39;, &#39;b&#39;, &#39;c&#39;, &#39;d&#39;] for the next three queries."
   ]
  },
  {
   "cell_type": "code",
   "execution_count": 6,
   "id": "55c302eb",
   "metadata": {},
   "outputs": [],
   "source": [
    "spam = ['a', 'b', 'c', 'd']"
   ]
  },
  {
   "cell_type": "markdown",
   "id": "eb0fdde7",
   "metadata": {},
   "source": [
    "3. What is the value of spam[int(int(&#39;3&#39; * 2) / 11)]?"
   ]
  },
  {
   "cell_type": "code",
   "execution_count": 7,
   "id": "fce93cde",
   "metadata": {},
   "outputs": [
    {
     "data": {
      "text/plain": [
       "'d'"
      ]
     },
     "execution_count": 7,
     "metadata": {},
     "output_type": "execute_result"
    }
   ],
   "source": [
    "spam[int(int('3'*2)/11)]"
   ]
  },
  {
   "cell_type": "code",
   "execution_count": 8,
   "id": "a715878f",
   "metadata": {},
   "outputs": [
    {
     "name": "stdout",
     "output_type": "stream",
     "text": [
      "step1. '3' * 2 is 33\n",
      "step2. int('3' * 2) is 33\n",
      "step3. int('3' * 2) / 11 is 3.0\n",
      "step4. int(int('3' * 2) / 11) is 3\n",
      "step5. spam[int(int('3' * 2) / 11)] is  d\n"
     ]
    }
   ],
   "source": [
    "print(\"step1. '3' * 2 is\",'3' * 2)\n",
    "print(\"step2. int('3' * 2) is\",int('3' * 2))\n",
    "print(\"step3. int('3' * 2) / 11 is\",int('3' * 2) / 11)\n",
    "print(\"step4. int(int('3' * 2) / 11) is\",int(int('3' * 2) / 11))\n",
    "print(\"step5. spam[int(int('3' * 2) / 11)] is \",spam[int(int('3' * 2) / 11)])"
   ]
  },
  {
   "cell_type": "markdown",
   "id": "1f6afb83",
   "metadata": {},
   "source": [
    "4. What is the value of spam[-1]?"
   ]
  },
  {
   "cell_type": "code",
   "execution_count": 9,
   "id": "c4316f85",
   "metadata": {},
   "outputs": [
    {
     "data": {
      "text/plain": [
       "'d'"
      ]
     },
     "execution_count": 9,
     "metadata": {},
     "output_type": "execute_result"
    }
   ],
   "source": [
    "spam[-1]"
   ]
  },
  {
   "cell_type": "markdown",
   "id": "668f3703",
   "metadata": {},
   "source": [
    "5. What is the value of spam[:2]?"
   ]
  },
  {
   "cell_type": "code",
   "execution_count": 10,
   "id": "e2d13ac7",
   "metadata": {},
   "outputs": [
    {
     "data": {
      "text/plain": [
       "['a', 'b']"
      ]
     },
     "execution_count": 10,
     "metadata": {},
     "output_type": "execute_result"
    }
   ],
   "source": [
    "spam[:2]"
   ]
  },
  {
   "cell_type": "markdown",
   "id": "8f59ff7e",
   "metadata": {},
   "source": [
    "Let&#39;s pretend bacon has the list [3.14, &#39;cat,&#39; 11, &#39;cat,&#39; True] for the next three questions."
   ]
  },
  {
   "cell_type": "code",
   "execution_count": 11,
   "id": "8d421119",
   "metadata": {},
   "outputs": [],
   "source": [
    "bacon = [3.14, 'cat', 11, 'cat', True]"
   ]
  },
  {
   "cell_type": "markdown",
   "id": "7ba9c025",
   "metadata": {},
   "source": [
    "6. What is the value of bacon.index(&#39;cat&#39;)?"
   ]
  },
  {
   "cell_type": "code",
   "execution_count": 12,
   "id": "6b75c648",
   "metadata": {},
   "outputs": [
    {
     "data": {
      "text/plain": [
       "1"
      ]
     },
     "execution_count": 12,
     "metadata": {},
     "output_type": "execute_result"
    }
   ],
   "source": [
    "bacon.index('cat')"
   ]
  },
  {
   "cell_type": "markdown",
   "id": "a3e7b891",
   "metadata": {},
   "source": [
    "7. How does bacon.append(99) change the look of the list value in bacon?"
   ]
  },
  {
   "cell_type": "code",
   "execution_count": 13,
   "id": "e8709d47",
   "metadata": {},
   "outputs": [],
   "source": [
    "bacon.append(99)"
   ]
  },
  {
   "cell_type": "code",
   "execution_count": 14,
   "id": "def6a248",
   "metadata": {},
   "outputs": [
    {
     "data": {
      "text/plain": [
       "[3.14, 'cat', 11, 'cat', True, 99]"
      ]
     },
     "execution_count": 14,
     "metadata": {},
     "output_type": "execute_result"
    }
   ],
   "source": [
    "bacon"
   ]
  },
  {
   "cell_type": "markdown",
   "id": "6b13b23b",
   "metadata": {},
   "source": [
    "8. How does bacon.remove(&#39;cat&#39;) change the look of the list in bacon?"
   ]
  },
  {
   "cell_type": "code",
   "execution_count": 15,
   "id": "83bbb6fa",
   "metadata": {},
   "outputs": [],
   "source": [
    "bacon.remove('cat')"
   ]
  },
  {
   "cell_type": "code",
   "execution_count": 16,
   "id": "5aa7c5af",
   "metadata": {},
   "outputs": [
    {
     "data": {
      "text/plain": [
       "[3.14, 11, 'cat', True, 99]"
      ]
     },
     "execution_count": 16,
     "metadata": {},
     "output_type": "execute_result"
    }
   ],
   "source": [
    "bacon"
   ]
  },
  {
   "cell_type": "markdown",
   "id": "fb2fe8ce",
   "metadata": {},
   "source": [
    "9. What are the list concatenation and list replication operators?"
   ]
  },
  {
   "cell_type": "markdown",
   "id": "70bf0f14",
   "metadata": {},
   "source": [
    "list concatenation is an operation where element of one list are added to another list in its end index. It is done by operator plus +"
   ]
  },
  {
   "cell_type": "code",
   "execution_count": 17,
   "id": "cc47079a",
   "metadata": {},
   "outputs": [
    {
     "data": {
      "text/plain": [
       "[3.14, 11, 'cat', True, 99]"
      ]
     },
     "execution_count": 17,
     "metadata": {},
     "output_type": "execute_result"
    }
   ],
   "source": [
    "bacon"
   ]
  },
  {
   "cell_type": "code",
   "execution_count": 18,
   "id": "d8053408",
   "metadata": {},
   "outputs": [
    {
     "name": "stdout",
     "output_type": "stream",
     "text": [
      "This is the list concatination operation: -   [3.14, 11, 'cat', True, 99, 15]\n"
     ]
    }
   ],
   "source": [
    "print(\"This is the list concatination operation: -  \", bacon + [15])"
   ]
  },
  {
   "cell_type": "markdown",
   "id": "14603b54",
   "metadata": {},
   "source": [
    "list replicationis an operation where element of list are repeat at that much amount of time in that list. It is done by operator asterisk *"
   ]
  },
  {
   "cell_type": "code",
   "execution_count": 22,
   "id": "9056a2a8",
   "metadata": {},
   "outputs": [],
   "source": [
    "l1 = [1,2,3,4,5]"
   ]
  },
  {
   "cell_type": "code",
   "execution_count": 23,
   "id": "5c83113b",
   "metadata": {},
   "outputs": [
    {
     "name": "stdout",
     "output_type": "stream",
     "text": [
      "This is the list replication operation: -  [1, 2, 3, 4, 5, 1, 2, 3, 4, 5, 1, 2, 3, 4, 5]\n"
     ]
    }
   ],
   "source": [
    "print(\"This is the list replication operation: - \", l1 * 3)"
   ]
  },
  {
   "cell_type": "markdown",
   "id": "e855511e",
   "metadata": {},
   "source": [
    "10. What is difference between the list methods append() and insert()?"
   ]
  },
  {
   "cell_type": "markdown",
   "id": "902c92e6",
   "metadata": {},
   "source": [
    "append() use to add item permanently to the end of a list. It take 1 argument only the item to be added."
   ]
  },
  {
   "cell_type": "code",
   "execution_count": 24,
   "id": "855f45fb",
   "metadata": {},
   "outputs": [],
   "source": [
    "l1 = [1,2,3,4,5]"
   ]
  },
  {
   "cell_type": "code",
   "execution_count": 25,
   "id": "2b88bb70",
   "metadata": {},
   "outputs": [],
   "source": [
    "l1.append(6)"
   ]
  },
  {
   "cell_type": "code",
   "execution_count": 26,
   "id": "cfcb8166",
   "metadata": {},
   "outputs": [
    {
     "data": {
      "text/plain": [
       "[1, 2, 3, 4, 5, 6]"
      ]
     },
     "execution_count": 26,
     "metadata": {},
     "output_type": "execute_result"
    }
   ],
   "source": [
    "l1"
   ]
  },
  {
   "cell_type": "markdown",
   "id": "c616e969",
   "metadata": {},
   "source": [
    "insert() use to add item permanently at a particular index(position) . It take 2 argument one index no. and second item to be added."
   ]
  },
  {
   "cell_type": "code",
   "execution_count": 27,
   "id": "2b02d77a",
   "metadata": {},
   "outputs": [],
   "source": [
    "l1.insert(3, \"Gaurav\")"
   ]
  },
  {
   "cell_type": "code",
   "execution_count": 28,
   "id": "2832533b",
   "metadata": {},
   "outputs": [
    {
     "data": {
      "text/plain": [
       "[1, 2, 3, 'Gaurav', 4, 5, 6]"
      ]
     },
     "execution_count": 28,
     "metadata": {},
     "output_type": "execute_result"
    }
   ],
   "source": [
    "l1"
   ]
  },
  {
   "cell_type": "markdown",
   "id": "ad26f7b5",
   "metadata": {},
   "source": [
    "11. What are the two methods for removing items from a list?"
   ]
  },
  {
   "cell_type": "markdown",
   "id": "33933c50",
   "metadata": {},
   "source": [
    "1.remove()- remove item in its occurance. It take one argument that is item to be remove . If item not Found it raise error.It remove permanently.\n",
    "\n"
   ]
  },
  {
   "cell_type": "code",
   "execution_count": 29,
   "id": "cde6d922",
   "metadata": {},
   "outputs": [
    {
     "data": {
      "text/plain": [
       "[1, 2, 3, 'Gaurav', 4, 5, 6]"
      ]
     },
     "execution_count": 29,
     "metadata": {},
     "output_type": "execute_result"
    }
   ],
   "source": [
    "l1"
   ]
  },
  {
   "cell_type": "code",
   "execution_count": 30,
   "id": "fb56777a",
   "metadata": {},
   "outputs": [],
   "source": [
    "l1.remove(\"Gaurav\")"
   ]
  },
  {
   "cell_type": "code",
   "execution_count": 31,
   "id": "3ef07532",
   "metadata": {},
   "outputs": [
    {
     "data": {
      "text/plain": [
       "[1, 2, 3, 4, 5, 6]"
      ]
     },
     "execution_count": 31,
     "metadata": {},
     "output_type": "execute_result"
    }
   ],
   "source": [
    "l1"
   ]
  },
  {
   "cell_type": "markdown",
   "id": "08cc2173",
   "metadata": {},
   "source": [
    "2.pop()-remove item at given index. It take one argument that is index of item to be remove . If item not Found it raise error.It remove permanently. and if we not pass any argument it remove item at last index . It actually return item to be remove."
   ]
  },
  {
   "cell_type": "code",
   "execution_count": 32,
   "id": "05e84385",
   "metadata": {},
   "outputs": [
    {
     "data": {
      "text/plain": [
       "6"
      ]
     },
     "execution_count": 32,
     "metadata": {},
     "output_type": "execute_result"
    }
   ],
   "source": [
    "l1.pop()"
   ]
  },
  {
   "cell_type": "code",
   "execution_count": 33,
   "id": "94c2fe60",
   "metadata": {},
   "outputs": [
    {
     "data": {
      "text/plain": [
       "[1, 2, 3, 4, 5]"
      ]
     },
     "execution_count": 33,
     "metadata": {},
     "output_type": "execute_result"
    }
   ],
   "source": [
    "l1"
   ]
  },
  {
   "cell_type": "markdown",
   "id": "e3a7e8be",
   "metadata": {},
   "source": [
    "12. Describe how list values and string values are identical."
   ]
  },
  {
   "cell_type": "markdown",
   "id": "0b5dc623",
   "metadata": {},
   "source": [
    "list values and string values are identical because both are in sequences. That means both are iterable."
   ]
  },
  {
   "cell_type": "code",
   "execution_count": 34,
   "id": "54fa952f",
   "metadata": {},
   "outputs": [],
   "source": [
    "s = \"gaurav\"\n",
    "l = ['g', 'a', 'u', 'r', 'a', 'v']\n"
   ]
  },
  {
   "cell_type": "code",
   "execution_count": 35,
   "id": "d3db3c4e",
   "metadata": {},
   "outputs": [
    {
     "name": "stdout",
     "output_type": "stream",
     "text": [
      "g\n",
      "a\n",
      "u\n",
      "r\n",
      "a\n",
      "v\n"
     ]
    }
   ],
   "source": [
    "for i in range(len(s)):\n",
    "    print(s[i])"
   ]
  },
  {
   "cell_type": "code",
   "execution_count": 36,
   "id": "a5275923",
   "metadata": {},
   "outputs": [
    {
     "name": "stdout",
     "output_type": "stream",
     "text": [
      "g\n",
      "a\n",
      "u\n",
      "r\n",
      "a\n",
      "v\n"
     ]
    }
   ],
   "source": [
    "for i in range(len(l)):\n",
    "    print(s[i])"
   ]
  },
  {
   "cell_type": "markdown",
   "id": "86a4147a",
   "metadata": {},
   "source": [
    "13. What&#39;s the difference between tuples and lists?"
   ]
  },
  {
   "cell_type": "markdown",
   "id": "64d479c0",
   "metadata": {},
   "source": [
    "list\n",
    "\n",
    "1.data type of lists are list <br>\n",
    "2.Elements inside it enclose with [] <br>\n",
    "3.Mutable ,can asign item in exiting index we can append and modify.<br>\n",
    "4.Iteration in list is slower than tuple.<br>\n",
    "5.More memory consume.<br>\n",
    "6.Many built-in-method. it have 11 function<br>"
   ]
  },
  {
   "cell_type": "code",
   "execution_count": 37,
   "id": "aef1200d",
   "metadata": {},
   "outputs": [
    {
     "data": {
      "text/plain": [
       "[1, 2, 3, 4, 5]"
      ]
     },
     "execution_count": 37,
     "metadata": {},
     "output_type": "execute_result"
    }
   ],
   "source": [
    "l1"
   ]
  },
  {
   "cell_type": "code",
   "execution_count": 38,
   "id": "36fdf71e",
   "metadata": {},
   "outputs": [
    {
     "data": {
      "text/plain": [
       "list"
      ]
     },
     "execution_count": 38,
     "metadata": {},
     "output_type": "execute_result"
    }
   ],
   "source": [
    "type(l1)"
   ]
  },
  {
   "cell_type": "code",
   "execution_count": 39,
   "id": "30f96391",
   "metadata": {},
   "outputs": [],
   "source": [
    "l1[3] = \"Gaurav\""
   ]
  },
  {
   "cell_type": "code",
   "execution_count": 40,
   "id": "2186a5d3",
   "metadata": {},
   "outputs": [
    {
     "data": {
      "text/plain": [
       "[1, 2, 3, 'Gaurav', 5]"
      ]
     },
     "execution_count": 40,
     "metadata": {},
     "output_type": "execute_result"
    }
   ],
   "source": [
    "l1"
   ]
  },
  {
   "cell_type": "markdown",
   "id": "dd6a20e3",
   "metadata": {},
   "source": [
    "tuples\n",
    "\n",
    "1.data type of tuples are tuple <br>\n",
    "2.Elements inside it enclose with () <br>\n",
    "3.Immutable , cann't asign item in exiting index we can append but modify.<br>\n",
    "4.Iteration in tuple is faster than list.<br>\n",
    "5.less memory consume.<br>\n",
    "6.Less built-in-method. actually only two i.e count and index"
   ]
  },
  {
   "cell_type": "code",
   "execution_count": 41,
   "id": "7d94881e",
   "metadata": {},
   "outputs": [],
   "source": [
    "t1 = (1, 2, 3, 5)"
   ]
  },
  {
   "cell_type": "code",
   "execution_count": 42,
   "id": "fa0d22b0",
   "metadata": {},
   "outputs": [
    {
     "data": {
      "text/plain": [
       "tuple"
      ]
     },
     "execution_count": 42,
     "metadata": {},
     "output_type": "execute_result"
    }
   ],
   "source": [
    "type(t1)"
   ]
  },
  {
   "cell_type": "code",
   "execution_count": 43,
   "id": "0d7bb3ae",
   "metadata": {},
   "outputs": [
    {
     "ename": "TypeError",
     "evalue": "'tuple' object does not support item assignment",
     "output_type": "error",
     "traceback": [
      "\u001b[1;31m---------------------------------------------------------------------------\u001b[0m",
      "\u001b[1;31mTypeError\u001b[0m                                 Traceback (most recent call last)",
      "\u001b[1;32m<ipython-input-43-af256e98cfc7>\u001b[0m in \u001b[0;36m<module>\u001b[1;34m\u001b[0m\n\u001b[1;32m----> 1\u001b[1;33m \u001b[0mt1\u001b[0m\u001b[1;33m[\u001b[0m\u001b[1;36m1\u001b[0m\u001b[1;33m]\u001b[0m \u001b[1;33m=\u001b[0m \u001b[1;34m'gaurav'\u001b[0m\u001b[1;33m\u001b[0m\u001b[1;33m\u001b[0m\u001b[0m\n\u001b[0m",
      "\u001b[1;31mTypeError\u001b[0m: 'tuple' object does not support item assignment"
     ]
    }
   ],
   "source": [
    "t1[1] = 'gaurav'"
   ]
  },
  {
   "cell_type": "markdown",
   "id": "f9ed4c38",
   "metadata": {},
   "source": [
    "14. How do you type a tuple value that only contains the integer 42?"
   ]
  },
  {
   "cell_type": "markdown",
   "id": "6943a25f",
   "metadata": {},
   "source": [
    "f we assign only single item in tuple () it will be not going to make tuple as for tuple need two item if we want only 42 in tuple thn it type will be interger only to make it tuple we can use comma ,"
   ]
  },
  {
   "cell_type": "code",
   "execution_count": 44,
   "id": "0f37aaaf",
   "metadata": {},
   "outputs": [],
   "source": [
    "t2 = (42)"
   ]
  },
  {
   "cell_type": "code",
   "execution_count": 45,
   "id": "da966ff2",
   "metadata": {},
   "outputs": [
    {
     "data": {
      "text/plain": [
       "int"
      ]
     },
     "execution_count": 45,
     "metadata": {},
     "output_type": "execute_result"
    }
   ],
   "source": [
    "type(t2)"
   ]
  },
  {
   "cell_type": "code",
   "execution_count": 46,
   "id": "8f09eff8",
   "metadata": {},
   "outputs": [],
   "source": [
    "t3 = (42,)"
   ]
  },
  {
   "cell_type": "code",
   "execution_count": 47,
   "id": "7511097d",
   "metadata": {},
   "outputs": [
    {
     "data": {
      "text/plain": [
       "tuple"
      ]
     },
     "execution_count": 47,
     "metadata": {},
     "output_type": "execute_result"
    }
   ],
   "source": [
    "type(t3)"
   ]
  },
  {
   "cell_type": "markdown",
   "id": "c942e71f",
   "metadata": {},
   "source": [
    "15. How do you get a list value&#39;s tuple form? How do you get a tuple value&#39;s list form?"
   ]
  },
  {
   "cell_type": "code",
   "execution_count": 48,
   "id": "50dfe64e",
   "metadata": {},
   "outputs": [],
   "source": [
    "l = [1,2,3,4,5,(6,7,8,9,0)]"
   ]
  },
  {
   "cell_type": "code",
   "execution_count": 49,
   "id": "7e1fcb76",
   "metadata": {},
   "outputs": [
    {
     "name": "stdout",
     "output_type": "stream",
     "text": [
      "List -- [1, 2, 3, 4, 5, (6, 7, 8, 9, 0)]\n",
      "\n",
      "Tuple inside list-- (6, 7, 8, 9, 0)\n",
      "\n",
      "6\n",
      "7\n",
      "8\n",
      "9\n",
      "0\n"
     ]
    }
   ],
   "source": [
    "print(\"List --\",l)\n",
    "print()\n",
    "for i in l:\n",
    "    if type(i)==tuple:\n",
    "        print(\"Tuple inside list--\",i)\n",
    "        print()\n",
    "        for j in i:\n",
    "            print(j)"
   ]
  },
  {
   "cell_type": "code",
   "execution_count": 50,
   "id": "a00e2775",
   "metadata": {},
   "outputs": [],
   "source": [
    "t = (1,2,3,4,5,[6,7,8,9,0])"
   ]
  },
  {
   "cell_type": "code",
   "execution_count": 51,
   "id": "469de806",
   "metadata": {},
   "outputs": [
    {
     "name": "stdout",
     "output_type": "stream",
     "text": [
      "Tuple -- (1, 2, 3, 4, 5, [6, 7, 8, 9, 0])\n",
      "\n",
      "list inside Tuple-- [6, 7, 8, 9, 0]\n",
      "\n",
      "6\n",
      "7\n",
      "8\n",
      "9\n",
      "0\n"
     ]
    }
   ],
   "source": [
    "print(\"Tuple --\",t)\n",
    "print()\n",
    "for i in t:\n",
    "    if type(i)==list:\n",
    "        print(\"list inside Tuple--\",i)\n",
    "        print()\n",
    "        for j in i:\n",
    "            print(j)"
   ]
  },
  {
   "cell_type": "markdown",
   "id": "aea81728",
   "metadata": {},
   "source": [
    "16. Variables that \"contain\" list values are not necessarily lists themselves. Instead, what do they\n",
    "contain?"
   ]
  },
  {
   "cell_type": "markdown",
   "id": "57d2ec99",
   "metadata": {},
   "source": [
    "Actually they contain list values reference. Like in example list1 contain [1,2,3,4,5] as reference and I assign list1 to list2 now list2 also refer [1,2,3,4,5] same value . location of of list1 and list2 is same so if I modify list2 values it effect to list1 as both refer same value"
   ]
  },
  {
   "cell_type": "code",
   "execution_count": 52,
   "id": "36fa135c",
   "metadata": {},
   "outputs": [],
   "source": [
    "l1 = [1,2,3,4,5]"
   ]
  },
  {
   "cell_type": "code",
   "execution_count": 53,
   "id": "991e45cb",
   "metadata": {},
   "outputs": [],
   "source": [
    "l2 = l1"
   ]
  },
  {
   "cell_type": "code",
   "execution_count": 54,
   "id": "f4c375d7",
   "metadata": {},
   "outputs": [
    {
     "data": {
      "text/plain": [
       "2189389720128"
      ]
     },
     "execution_count": 54,
     "metadata": {},
     "output_type": "execute_result"
    }
   ],
   "source": [
    "id(l1)"
   ]
  },
  {
   "cell_type": "code",
   "execution_count": 55,
   "id": "5738166f",
   "metadata": {},
   "outputs": [
    {
     "data": {
      "text/plain": [
       "2189389720128"
      ]
     },
     "execution_count": 55,
     "metadata": {},
     "output_type": "execute_result"
    }
   ],
   "source": [
    "id(l2)"
   ]
  },
  {
   "cell_type": "markdown",
   "id": "0b98a285",
   "metadata": {},
   "source": [
    "### l1 and l2 share same refferecne id"
   ]
  },
  {
   "cell_type": "code",
   "execution_count": 56,
   "id": "70190931",
   "metadata": {},
   "outputs": [],
   "source": [
    "l3 = [1,2,3,4,5]"
   ]
  },
  {
   "cell_type": "code",
   "execution_count": 57,
   "id": "79650df6",
   "metadata": {},
   "outputs": [
    {
     "data": {
      "text/plain": [
       "2189387777088"
      ]
     },
     "execution_count": 57,
     "metadata": {},
     "output_type": "execute_result"
    }
   ],
   "source": [
    "id(l3)"
   ]
  },
  {
   "cell_type": "markdown",
   "id": "163548b8",
   "metadata": {},
   "source": [
    "### l1, l2 and l3 has same list but l3 refference id is diffrent "
   ]
  },
  {
   "cell_type": "code",
   "execution_count": 58,
   "id": "27f3af39",
   "metadata": {},
   "outputs": [],
   "source": [
    "l2[1] =\"Gaurav\""
   ]
  },
  {
   "cell_type": "code",
   "execution_count": 59,
   "id": "98b2ad3a",
   "metadata": {},
   "outputs": [
    {
     "data": {
      "text/plain": [
       "[1, 'Gaurav', 3, 4, 5]"
      ]
     },
     "execution_count": 59,
     "metadata": {},
     "output_type": "execute_result"
    }
   ],
   "source": [
    "l1"
   ]
  },
  {
   "cell_type": "code",
   "execution_count": 60,
   "id": "2e4681ef",
   "metadata": {},
   "outputs": [
    {
     "data": {
      "text/plain": [
       "[1, 'Gaurav', 3, 4, 5]"
      ]
     },
     "execution_count": 60,
     "metadata": {},
     "output_type": "execute_result"
    }
   ],
   "source": [
    "l2"
   ]
  },
  {
   "cell_type": "code",
   "execution_count": 61,
   "id": "c93628cf",
   "metadata": {},
   "outputs": [
    {
     "data": {
      "text/plain": [
       "[1, 2, 3, 4, 5]"
      ]
     },
     "execution_count": 61,
     "metadata": {},
     "output_type": "execute_result"
    }
   ],
   "source": [
    "l3"
   ]
  },
  {
   "cell_type": "markdown",
   "id": "0989899c",
   "metadata": {},
   "source": [
    "17. How do you distinguish between copy.copy() and copy.deepcopy()?"
   ]
  },
  {
   "cell_type": "markdown",
   "id": "0b3fb8c8",
   "metadata": {},
   "source": [
    "copy.copy() it shallow copy a list. It doesn't copy if we have nest list (list inside list). It work for single dimension . For multi dimension we use copy.deep() it deeply copy the list.\n",
    "\n",
    "For both copy() and deepcopy() we need to import copy module"
   ]
  },
  {
   "cell_type": "markdown",
   "id": "25742de9",
   "metadata": {},
   "source": [
    "# Copy"
   ]
  },
  {
   "cell_type": "code",
   "execution_count": 62,
   "id": "ab569e4a",
   "metadata": {},
   "outputs": [
    {
     "name": "stdout",
     "output_type": "stream",
     "text": [
      "list1 is [1, 2, 3, ['Gaurav', 7, 'Bagade']] \n",
      "list2 is [1, 2, 3, ['Gaurav', 7, 'Bagade']]\n",
      "\n",
      "list2 is \n",
      " [1, 2, 'Pandit', ['Gaurav', 7, 'Bagade']] \n",
      "list1 is after change list2\n",
      " [1, 2, 'Pandit', ['Gaurav', 7, 'Bagade']]\n",
      "\n",
      "list1 change because list1 and list2 share same Refer Id as we '=' assign it,\n",
      "To unchange other list we use copy.copy()(shallow copy) and copy.deepcopy() for that we need to import copy\n",
      "\n",
      "list1 is [1, 2, 'Pandit', ['Gaurav', 7, 'Bagade']] \n",
      "list3 is [1, 2, 'Pandit', ['Gaurav', 7, 'Bagade']]\n",
      "\n",
      "list1 is \n",
      " [1, 2, 'My Name is Gaurav Pandit Bagade', ['Gaurav', 7, 'Bagade']] \n",
      "\n",
      "list3 is after change list1\n",
      " [1, 2, 'Pandit', ['Gaurav', 7, 'Bagade']] \n",
      "It unchange coz  when we copy list1 to list3 it share different location\n",
      "\n"
     ]
    }
   ],
   "source": [
    "list1=[1,2,3,[\"Gaurav\",7,\"Bagade\"]]\n",
    "list2=list1\n",
    "print(\"list1 is\",list1,\"\\nlist2 is\",list2)\n",
    "\n",
    "list2[2]=\"Pandit\"\n",
    "\n",
    "print()\n",
    "print(\"list2 is \\n\",list2,\"\\nlist1 is after change list2\\n\",list1)\n",
    "print()\n",
    "print(\"\"\"list1 change because list1 and list2 share same Refer Id as we '=' assign it,\n",
    "To unchange other list we use copy.copy()(shallow copy) and copy.deepcopy() for that we need to import copy\\n\"\"\")\n",
    "\n",
    "import copy\n",
    "\n",
    "list3=copy.copy(list1) #shallow copy\n",
    "print(\"list1 is\",list1,\"\\nlist3 is\",list2)\n",
    "\n",
    "list1[2]=\"My Name is Gaurav Pandit Bagade\"\n",
    "print()\n",
    "print(\"list1 is \\n\",list1,\"\\n\\nlist3 is after change list1\\n\",list3,\"\\nIt unchange coz  when we copy list1 to list3 it share different location\")\n",
    "print()"
   ]
  },
  {
   "cell_type": "markdown",
   "id": "9c97da9e",
   "metadata": {},
   "source": [
    "# deepcopy"
   ]
  },
  {
   "cell_type": "code",
   "execution_count": 63,
   "id": "5dd18912",
   "metadata": {},
   "outputs": [
    {
     "data": {
      "text/plain": [
       "[1, 2, 'My Name is Gaurav Pandit Bagade', ['Gaurav', 7, 'Bagade']]"
      ]
     },
     "execution_count": 63,
     "metadata": {},
     "output_type": "execute_result"
    }
   ],
   "source": [
    "list1"
   ]
  },
  {
   "cell_type": "code",
   "execution_count": 64,
   "id": "2b91fef1",
   "metadata": {},
   "outputs": [
    {
     "data": {
      "text/plain": [
       "[1, 2, 'Pandit', ['Gaurav', 7, 'Bagade']]"
      ]
     },
     "execution_count": 64,
     "metadata": {},
     "output_type": "execute_result"
    }
   ],
   "source": [
    "list3"
   ]
  },
  {
   "cell_type": "code",
   "execution_count": 65,
   "id": "5a46261f",
   "metadata": {},
   "outputs": [],
   "source": [
    "list1[-1][1] = \"Pandit\""
   ]
  },
  {
   "cell_type": "code",
   "execution_count": 66,
   "id": "771fa54f",
   "metadata": {},
   "outputs": [
    {
     "data": {
      "text/plain": [
       "[1, 2, 'My Name is Gaurav Pandit Bagade', ['Gaurav', 'Pandit', 'Bagade']]"
      ]
     },
     "execution_count": 66,
     "metadata": {},
     "output_type": "execute_result"
    }
   ],
   "source": [
    "list1"
   ]
  },
  {
   "cell_type": "code",
   "execution_count": 67,
   "id": "0e6a63b6",
   "metadata": {},
   "outputs": [
    {
     "data": {
      "text/plain": [
       "[1, 2, 'Pandit', ['Gaurav', 'Pandit', 'Bagade']]"
      ]
     },
     "execution_count": 67,
     "metadata": {},
     "output_type": "execute_result"
    }
   ],
   "source": [
    "list3"
   ]
  },
  {
   "cell_type": "markdown",
   "id": "d5b8e6ca",
   "metadata": {},
   "source": [
    "Now why this nestedlist inside list3 change when i change nexted list of list as we use copy()"
   ]
  },
  {
   "cell_type": "markdown",
   "id": "1a2a26dd",
   "metadata": {},
   "source": [
    "This because we copy list1 to list3 not inside the list item for that\n",
    "we need deepcopy()"
   ]
  },
  {
   "cell_type": "code",
   "execution_count": 68,
   "id": "bd90c5ad",
   "metadata": {},
   "outputs": [
    {
     "name": "stdout",
     "output_type": "stream",
     "text": [
      "list1 is [1, 2, 'My Name is Gaurav Pandit Bagade', ['Gaurav', 'Pandit', 'Bagade']] \n",
      "list4 is [1, 2, 'My Name is Gaurav Pandit Bagade', ['Gaurav', 'Pandit', 'Bagade']]\n",
      "\n",
      "list4 is \n",
      " [1, 2, 'My Name is Gaurav Pandit Bagade', ['Gaurav', 'Meena', 'Bagade']] \n",
      "list1 is after change list4\n",
      " [1, 2, 'My Name is Gaurav Pandit Bagade', ['Gaurav', 'Pandit', 'Bagade']] \n",
      "It unchange \n"
     ]
    }
   ],
   "source": [
    "import copy\n",
    "\n",
    "list4=copy.deepcopy(list1)\n",
    "print(\"list1 is\",list1,\"\\nlist4 is\",list4)\n",
    "\n",
    "list4[-1][1]=\"Meena\"\n",
    "print()\n",
    "print(\"list4 is \\n\",list4,\"\\nlist1 is after change list4\\n\",list1,\"\\nIt unchange \")"
   ]
  },
  {
   "cell_type": "code",
   "execution_count": null,
   "id": "acea07b0",
   "metadata": {},
   "outputs": [],
   "source": []
  }
 ],
 "metadata": {
  "kernelspec": {
   "display_name": "Python 3",
   "language": "python",
   "name": "python3"
  },
  "language_info": {
   "codemirror_mode": {
    "name": "ipython",
    "version": 3
   },
   "file_extension": ".py",
   "mimetype": "text/x-python",
   "name": "python",
   "nbconvert_exporter": "python",
   "pygments_lexer": "ipython3",
   "version": "3.8.8"
  }
 },
 "nbformat": 4,
 "nbformat_minor": 5
}
