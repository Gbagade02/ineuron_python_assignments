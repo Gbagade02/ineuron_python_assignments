{
 "cells": [
  {
   "cell_type": "markdown",
   "id": "c247f86d",
   "metadata": {},
   "source": [
    "### 1. Create an assert statement that throws an AssertionError if the variable spam is a negative integer."
   ]
  },
  {
   "cell_type": "markdown",
   "id": "935089ee",
   "metadata": {},
   "source": [
    "The assert statement is used to continue the execute if the given condition evaluates to True. If the assert condition evaluates to False, then it raises the AssertionError exception with the specified error message"
   ]
  },
  {
   "cell_type": "code",
   "execution_count": 1,
   "id": "bf5de9d3",
   "metadata": {},
   "outputs": [
    {
     "name": "stdout",
     "output_type": "stream",
     "text": [
      "Enter the Number : -8\n"
     ]
    },
    {
     "ename": "AssertionError",
     "evalue": "",
     "output_type": "error",
     "traceback": [
      "\u001b[1;31m---------------------------------------------------------------------------\u001b[0m",
      "\u001b[1;31mAssertionError\u001b[0m                            Traceback (most recent call last)",
      "\u001b[1;32m<ipython-input-1-901e1cb4a0d1>\u001b[0m in \u001b[0;36m<module>\u001b[1;34m\u001b[0m\n\u001b[0;32m      1\u001b[0m \u001b[0mspam\u001b[0m \u001b[1;33m=\u001b[0m\u001b[0mint\u001b[0m\u001b[1;33m(\u001b[0m\u001b[0minput\u001b[0m\u001b[1;33m(\u001b[0m\u001b[1;34m\"Enter the Number : \"\u001b[0m\u001b[1;33m)\u001b[0m\u001b[1;33m)\u001b[0m\u001b[1;33m\u001b[0m\u001b[1;33m\u001b[0m\u001b[0m\n\u001b[1;32m----> 2\u001b[1;33m \u001b[1;32massert\u001b[0m \u001b[0mspam\u001b[0m \u001b[1;33m>\u001b[0m \u001b[1;36m0\u001b[0m\u001b[1;33m\u001b[0m\u001b[1;33m\u001b[0m\u001b[0m\n\u001b[0m\u001b[0;32m      3\u001b[0m \u001b[0mprint\u001b[0m\u001b[1;33m(\u001b[0m\u001b[1;34m'Spam is a positive number.'\u001b[0m\u001b[1;33m)\u001b[0m\u001b[1;33m\u001b[0m\u001b[1;33m\u001b[0m\u001b[0m\n",
      "\u001b[1;31mAssertionError\u001b[0m: "
     ]
    }
   ],
   "source": [
    "spam =int(input(\"Enter the Number : \"))\n",
    "assert spam > 0\n",
    "print('Spam is a positive number.')"
   ]
  },
  {
   "cell_type": "markdown",
   "id": "df995281",
   "metadata": {},
   "source": [
    "### 2. Write an assert statement that triggers an AssertionError if the variables eggs and bacon contain strings that are the same as each other, even if their cases are different (that is, 'hello' and 'hello' are considered the same, and 'goodbye' and 'GOODbye' are also considered the same).\n"
   ]
  },
  {
   "cell_type": "code",
   "execution_count": 2,
   "id": "4fdf9560",
   "metadata": {},
   "outputs": [
    {
     "name": "stdout",
     "output_type": "stream",
     "text": [
      "Enter the first word: goodbye\n",
      "Enter the  second word: GoodBye\n"
     ]
    },
    {
     "ename": "AssertionError",
     "evalue": "",
     "output_type": "error",
     "traceback": [
      "\u001b[1;31m---------------------------------------------------------------------------\u001b[0m",
      "\u001b[1;31mAssertionError\u001b[0m                            Traceback (most recent call last)",
      "\u001b[1;32m<ipython-input-2-7c4d2ef23b2a>\u001b[0m in \u001b[0;36m<module>\u001b[1;34m\u001b[0m\n\u001b[0;32m      2\u001b[0m \u001b[0mbacon\u001b[0m\u001b[1;33m=\u001b[0m\u001b[0minput\u001b[0m\u001b[1;33m(\u001b[0m\u001b[1;34m\"Enter the  second word: \"\u001b[0m\u001b[1;33m)\u001b[0m\u001b[1;33m.\u001b[0m\u001b[0mlower\u001b[0m\u001b[1;33m(\u001b[0m\u001b[1;33m)\u001b[0m\u001b[1;33m\u001b[0m\u001b[1;33m\u001b[0m\u001b[0m\n\u001b[0;32m      3\u001b[0m \u001b[1;33m\u001b[0m\u001b[0m\n\u001b[1;32m----> 4\u001b[1;33m \u001b[1;32massert\u001b[0m \u001b[0meggs\u001b[0m\u001b[1;33m!=\u001b[0m\u001b[0mbacon\u001b[0m\u001b[1;33m\u001b[0m\u001b[1;33m\u001b[0m\u001b[0m\n\u001b[0m\u001b[0;32m      5\u001b[0m \u001b[1;33m\u001b[0m\u001b[0m\n\u001b[0;32m      6\u001b[0m \u001b[0mprint\u001b[0m\u001b[1;33m(\u001b[0m\u001b[1;34m'Eggs and bacon not same...'\u001b[0m\u001b[1;33m)\u001b[0m\u001b[1;33m\u001b[0m\u001b[1;33m\u001b[0m\u001b[0m\n",
      "\u001b[1;31mAssertionError\u001b[0m: "
     ]
    }
   ],
   "source": [
    "eggs=input(\"Enter the first word: \").lower()\n",
    "bacon=input(\"Enter the  second word: \").lower()\n",
    "\n",
    "assert eggs!=bacon\n",
    "\n",
    "print('Eggs and bacon not same...')\n"
   ]
  },
  {
   "cell_type": "markdown",
   "id": "6846fca4",
   "metadata": {},
   "source": [
    "### 3. Create an assert statement that throws an AssertionError every time."
   ]
  },
  {
   "cell_type": "code",
   "execution_count": 3,
   "id": "a828ca71",
   "metadata": {},
   "outputs": [
    {
     "name": "stdout",
     "output_type": "stream",
     "text": [
      "Enter the Number : 0\n"
     ]
    },
    {
     "ename": "AssertionError",
     "evalue": "",
     "output_type": "error",
     "traceback": [
      "\u001b[1;31m---------------------------------------------------------------------------\u001b[0m",
      "\u001b[1;31mAssertionError\u001b[0m                            Traceback (most recent call last)",
      "\u001b[1;32m<ipython-input-3-e38f9a8e0f13>\u001b[0m in \u001b[0;36m<module>\u001b[1;34m\u001b[0m\n\u001b[0;32m      1\u001b[0m \u001b[0mspam\u001b[0m \u001b[1;33m=\u001b[0m\u001b[0mint\u001b[0m\u001b[1;33m(\u001b[0m\u001b[0minput\u001b[0m\u001b[1;33m(\u001b[0m\u001b[1;34m\"Enter the Number : \"\u001b[0m\u001b[1;33m)\u001b[0m\u001b[1;33m)\u001b[0m\u001b[1;33m\u001b[0m\u001b[1;33m\u001b[0m\u001b[0m\n\u001b[1;32m----> 2\u001b[1;33m \u001b[1;32massert\u001b[0m \u001b[0mspam\u001b[0m \u001b[1;33m>\u001b[0m \u001b[1;36m0\u001b[0m \u001b[1;32mand\u001b[0m \u001b[0mspam\u001b[0m \u001b[1;33m<\u001b[0m \u001b[1;36m0\u001b[0m\u001b[1;33m\u001b[0m\u001b[1;33m\u001b[0m\u001b[0m\n\u001b[0m\u001b[0;32m      3\u001b[0m \u001b[0mprint\u001b[0m\u001b[1;33m(\u001b[0m\u001b[1;34m'hello world'\u001b[0m\u001b[1;33m)\u001b[0m\u001b[1;33m\u001b[0m\u001b[1;33m\u001b[0m\u001b[0m\n",
      "\u001b[1;31mAssertionError\u001b[0m: "
     ]
    }
   ],
   "source": [
    "spam =int(input(\"Enter the Number : \"))\n",
    "assert spam > 0 and spam < 0 \n",
    "print('hello world')"
   ]
  },
  {
   "cell_type": "markdown",
   "id": "10a6eae2",
   "metadata": {},
   "source": [
    "### 4. What are the two lines that must be present in your software in order to call logging.debug()?"
   ]
  },
  {
   "cell_type": "code",
   "execution_count": 4,
   "id": "3c82c476",
   "metadata": {},
   "outputs": [
    {
     "name": "stderr",
     "output_type": "stream",
     "text": [
      " 15-August-22 | Monday | 20:50:59 PM - DEBUG - Debuging............\n"
     ]
    }
   ],
   "source": [
    "import logging\n",
    "logging.basicConfig(level=logging.DEBUG, format=' %(asctime)s - %(levelname)s - %(message)s', datefmt='%d-%B-%y | %A | %H:%M:%S %p')\n",
    "logging.debug(\"Debuging............\")"
   ]
  },
  {
   "cell_type": "markdown",
   "id": "7e11dcdf",
   "metadata": {},
   "source": [
    "### 5. What are the two lines that your program must have in order to have logging.debug() send a logging message to a file named programLog.txt?"
   ]
  },
  {
   "cell_type": "code",
   "execution_count": 5,
   "id": "ead85b8b",
   "metadata": {},
   "outputs": [
    {
     "name": "stderr",
     "output_type": "stream",
     "text": [
      " 15-August-22 | Monday | 20:54:15 PM - DEBUG - Debuging............\n"
     ]
    }
   ],
   "source": [
    "import logging\n",
    "logging.basicConfig(filename='programLog.txt',filemode='w',level=logging.DEBUG, format=' %(asctime)s - %(levelname)s - %(message)s', datefmt='%d-%B-%y | %A | %H:%M:%S %p')\n",
    "logging.debug(\"Debuging............\")"
   ]
  },
  {
   "cell_type": "markdown",
   "id": "fc2ea1cf",
   "metadata": {},
   "source": [
    "### 6. What are the five levels of logging?"
   ]
  },
  {
   "cell_type": "markdown",
   "id": "59b75ef5",
   "metadata": {},
   "source": [
    "#### DEBUG, INFO, WARNING, ERROR, and CRITICAL"
   ]
  },
  {
   "cell_type": "markdown",
   "id": "3afae6da",
   "metadata": {},
   "source": [
    "### 7. What line of code would you add to your software to disable all logging messages?"
   ]
  },
  {
   "cell_type": "code",
   "execution_count": 8,
   "id": "1a03fa2b",
   "metadata": {},
   "outputs": [],
   "source": [
    "logging.disable(logging.CRITICAL)"
   ]
  },
  {
   "cell_type": "code",
   "execution_count": 9,
   "id": "703e228b",
   "metadata": {},
   "outputs": [],
   "source": [
    "\n",
    "logging.info(\"Hello World\")\n"
   ]
  },
  {
   "cell_type": "code",
   "execution_count": 10,
   "id": "8714f6c5",
   "metadata": {},
   "outputs": [],
   "source": [
    "logging.disable(logging.NOTSET)"
   ]
  },
  {
   "cell_type": "code",
   "execution_count": 11,
   "id": "3f0d8875",
   "metadata": {},
   "outputs": [
    {
     "name": "stderr",
     "output_type": "stream",
     "text": [
      " 15-August-22 | Monday | 20:56:29 PM - INFO - Hello World\n"
     ]
    }
   ],
   "source": [
    "logging.info(\"Hello World\")"
   ]
  },
  {
   "cell_type": "markdown",
   "id": "6cef8f36",
   "metadata": {},
   "source": [
    "### 8.Why is using logging messages better than using print() to display the same message?"
   ]
  },
  {
   "cell_type": "markdown",
   "id": "959114ac",
   "metadata": {},
   "source": [
    "1.Logging has different levels of severity that allows you to display log messages according to the level you want. A print statement does not give you that flexibility<br>\n",
    "2.Logging allows you to direct the log messages to separate files that can then be used for post analysis while the same is not easily available with print statement<br>\n",
    "3.You can set different log levels at individual code file level as well - some files may have INFO level while some may have DEBUG level"
   ]
  },
  {
   "cell_type": "markdown",
   "id": "d074ba8a",
   "metadata": {},
   "source": [
    "### 9. What are the differences between the Step Over, Step In, and Step Out buttons in the debugger?"
   ]
  },
  {
   "cell_type": "markdown",
   "id": "c47f38a6",
   "metadata": {},
   "source": [
    "Step Into: When the next statement to execute reaches a method call, dont execute the method as a whole, but rather, execute the first line of that method and stop.\n",
    "\n",
    "Step Over: When the next statement to execute reaches a method call, execute the method as a whole and stop.\n",
    "\n",
    "Step Out: Finish off executing the caller's code and stop when execution returns to the caller"
   ]
  },
  {
   "cell_type": "markdown",
   "id": "2386682f",
   "metadata": {},
   "source": [
    "### 10.After you click Continue, when will the debugger stop ?"
   ]
  },
  {
   "cell_type": "markdown",
   "id": "40dd002f",
   "metadata": {},
   "source": [
    "Continue: Execute up until the next breakpoint\""
   ]
  },
  {
   "cell_type": "markdown",
   "id": "82dcd08d",
   "metadata": {},
   "source": [
    "### 11. What is the concept of a breakpoint?"
   ]
  },
  {
   "cell_type": "markdown",
   "id": "319fee31",
   "metadata": {},
   "source": [
    "breakpoint Interrupt a running program immediately before the execution of a programmer-specified instruction"
   ]
  },
  {
   "cell_type": "code",
   "execution_count": null,
   "id": "963252ac",
   "metadata": {},
   "outputs": [],
   "source": []
  }
 ],
 "metadata": {
  "kernelspec": {
   "display_name": "Python 3",
   "language": "python",
   "name": "python3"
  },
  "language_info": {
   "codemirror_mode": {
    "name": "ipython",
    "version": 3
   },
   "file_extension": ".py",
   "mimetype": "text/x-python",
   "name": "python",
   "nbconvert_exporter": "python",
   "pygments_lexer": "ipython3",
   "version": "3.8.8"
  }
 },
 "nbformat": 4,
 "nbformat_minor": 5
}
