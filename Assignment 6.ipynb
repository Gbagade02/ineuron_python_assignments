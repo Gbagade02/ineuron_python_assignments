{
 "cells": [
  {
   "cell_type": "markdown",
   "id": "c0af39b1",
   "metadata": {},
   "source": [
    "### 1. What are escape characters, and how do you use them?"
   ]
  },
  {
   "cell_type": "markdown",
   "id": "0f041f00",
   "metadata": {},
   "source": [
    "The backslash “\\” is a special character, also called the “escape” character. It is used in representing certain whitespace characters.If We not used it python not able to read certain string character. "
   ]
  },
  {
   "cell_type": "markdown",
   "id": "a31c2640",
   "metadata": {},
   "source": [
    "### 2. What do the escape characters n and t stand for?"
   ]
  },
  {
   "cell_type": "markdown",
   "id": "1233faeb",
   "metadata": {},
   "source": [
    "\\n means newline.<br>\n",
    "\\t means tab"
   ]
  },
  {
   "cell_type": "markdown",
   "id": "5f3b2393",
   "metadata": {},
   "source": [
    "### 3. What is the way to include backslash characters in a string?"
   ]
  },
  {
   "cell_type": "markdown",
   "id": "fec54e28",
   "metadata": {},
   "source": [
    "\\\\ used double backslash."
   ]
  },
  {
   "cell_type": "markdown",
   "id": "a6d782df",
   "metadata": {},
   "source": [
    "### 4. The string &quot;Howl&#39;s Moving Castle&quot; is a correct value. Why isn&#39;t the single quote character in the word Howl&#39;s not escaped a problem?"
   ]
  },
  {
   "cell_type": "code",
   "execution_count": 1,
   "id": "120c605f",
   "metadata": {},
   "outputs": [
    {
     "name": "stdout",
     "output_type": "stream",
     "text": [
      "Howl's Moving Castle\n"
     ]
    }
   ],
   "source": [
    "string=\"Howl's Moving Castle\"\n",
    "print(string)"
   ]
  },
  {
   "cell_type": "markdown",
   "id": "f10b080e",
   "metadata": {},
   "source": [
    "Howl's Moving Castle\n",
    "Howl's work absoulty fine because we used double quotes in beginning and ending."
   ]
  },
  {
   "cell_type": "markdown",
   "id": "251525e9",
   "metadata": {},
   "source": [
    "### 5. How do you write a string of newlines if you don&#39;t want to use the n character?"
   ]
  },
  {
   "cell_type": "markdown",
   "id": "83359f05",
   "metadata": {},
   "source": [
    "By Using Multiline string(\"\"\"--------------\"\"\").String are enclose with triple quotes."
   ]
  },
  {
   "cell_type": "code",
   "execution_count": 2,
   "id": "a72a0304",
   "metadata": {},
   "outputs": [],
   "source": [
    "strings=\"\"\"Python is a high-level, interpreted, general-purpose programming language.\n",
    "Its design philosophy emphasizes code readability with the use of significant indentation.[32]\n",
    "\n",
    "Python is dynamically-typed and garbage-collected.\n",
    "It supports multiple programming paradigms, including structured (particularly procedural), object-oriented and functional programming.\"\"\""
   ]
  },
  {
   "cell_type": "code",
   "execution_count": 3,
   "id": "be166861",
   "metadata": {},
   "outputs": [
    {
     "data": {
      "text/plain": [
       "'Python is a high-level, interpreted, general-purpose programming language.\\nIts design philosophy emphasizes code readability with the use of significant indentation.[32]\\n\\nPython is dynamically-typed and garbage-collected.\\nIt supports multiple programming paradigms, including structured (particularly procedural), object-oriented and functional programming.'"
      ]
     },
     "execution_count": 3,
     "metadata": {},
     "output_type": "execute_result"
    }
   ],
   "source": [
    "strings"
   ]
  },
  {
   "cell_type": "markdown",
   "id": "ccb64af6",
   "metadata": {},
   "source": [
    "### 6. What are the values of the given expressions?"
   ]
  },
  {
   "cell_type": "markdown",
   "id": "a89d6f43",
   "metadata": {},
   "source": [
    "&#39;Hello, world!&#39;[1]<br>\n",
    "&#39;Hello, world!&#39;[0:5]<br>\n",
    "&#39;Hello, world!&#39;[:5]<br>\n",
    "&#39;Hello, world!&#39;[3:]<br>"
   ]
  },
  {
   "cell_type": "code",
   "execution_count": 4,
   "id": "cd6bded8",
   "metadata": {},
   "outputs": [
    {
     "name": "stdout",
     "output_type": "stream",
     "text": [
      "e\n"
     ]
    }
   ],
   "source": [
    "print('Hello, world!'[1])"
   ]
  },
  {
   "cell_type": "code",
   "execution_count": 5,
   "id": "9ba468af",
   "metadata": {},
   "outputs": [
    {
     "name": "stdout",
     "output_type": "stream",
     "text": [
      "Hello\n"
     ]
    }
   ],
   "source": [
    "print('Hello, world!'[0:5])"
   ]
  },
  {
   "cell_type": "code",
   "execution_count": 6,
   "id": "dd4378c2",
   "metadata": {},
   "outputs": [
    {
     "name": "stdout",
     "output_type": "stream",
     "text": [
      "Hello\n"
     ]
    }
   ],
   "source": [
    "print('Hello, world!'[:5])"
   ]
  },
  {
   "cell_type": "code",
   "execution_count": 7,
   "id": "f6d9f756",
   "metadata": {},
   "outputs": [
    {
     "name": "stdout",
     "output_type": "stream",
     "text": [
      "lo, world!\n"
     ]
    }
   ],
   "source": [
    "print('Hello, world!'[3:])"
   ]
  },
  {
   "cell_type": "markdown",
   "id": "e88b0b3c",
   "metadata": {},
   "source": [
    "### 7. What are the values of the following expressions?"
   ]
  },
  {
   "cell_type": "markdown",
   "id": "d8a377bf",
   "metadata": {},
   "source": [
    "'Hello'.upper()<br>\n",
    "'Hello'.upper().isupper()<br>\n",
    "'Hello'.upper().lower()<br>"
   ]
  },
  {
   "cell_type": "code",
   "execution_count": 8,
   "id": "e5114eed",
   "metadata": {},
   "outputs": [
    {
     "data": {
      "text/plain": [
       "'HELLO'"
      ]
     },
     "execution_count": 8,
     "metadata": {},
     "output_type": "execute_result"
    }
   ],
   "source": [
    "'Hello'.upper()"
   ]
  },
  {
   "cell_type": "code",
   "execution_count": 9,
   "id": "39af4ca3",
   "metadata": {},
   "outputs": [
    {
     "data": {
      "text/plain": [
       "True"
      ]
     },
     "execution_count": 9,
     "metadata": {},
     "output_type": "execute_result"
    }
   ],
   "source": [
    "'Hello'.upper().isupper()"
   ]
  },
  {
   "cell_type": "code",
   "execution_count": 10,
   "id": "42ce9415",
   "metadata": {},
   "outputs": [
    {
     "data": {
      "text/plain": [
       "'hello'"
      ]
     },
     "execution_count": 10,
     "metadata": {},
     "output_type": "execute_result"
    }
   ],
   "source": [
    "'Hello'.upper().lower()"
   ]
  },
  {
   "cell_type": "markdown",
   "id": "62cd1544",
   "metadata": {},
   "source": [
    "### 8. What are the values of the following expressions?"
   ]
  },
  {
   "cell_type": "markdown",
   "id": "baae288b",
   "metadata": {},
   "source": [
    "'Remember, remember, the fifth of July.'.split()\n",
    "\n",
    "'-'.join('There can only one.'.split())"
   ]
  },
  {
   "cell_type": "code",
   "execution_count": 11,
   "id": "335062bb",
   "metadata": {},
   "outputs": [
    {
     "data": {
      "text/plain": [
       "['Remember,', 'remember,', 'the', 'fifth', 'of', 'July.']"
      ]
     },
     "execution_count": 11,
     "metadata": {},
     "output_type": "execute_result"
    }
   ],
   "source": [
    "'Remember, remember, the fifth of July.'.split()"
   ]
  },
  {
   "cell_type": "code",
   "execution_count": 12,
   "id": "5ba41693",
   "metadata": {},
   "outputs": [
    {
     "data": {
      "text/plain": [
       "'There-can-only-one.'"
      ]
     },
     "execution_count": 12,
     "metadata": {},
     "output_type": "execute_result"
    }
   ],
   "source": [
    "'-'.join('There can only one.'.split())"
   ]
  },
  {
   "cell_type": "markdown",
   "id": "6e8ecf3e",
   "metadata": {},
   "source": [
    "### 9. What are the methods for right-justifying, left-justifying, and centering a string?"
   ]
  },
  {
   "cell_type": "markdown",
   "id": "1a52bbd1",
   "metadata": {},
   "source": [
    "right-justifying method rjust(width,fillchar)<br>\n",
    "left-justifying method ljust(width,fillchar)<br>\n",
    "center method center(width,fillchar)<br>"
   ]
  },
  {
   "cell_type": "code",
   "execution_count": 13,
   "id": "7de08ad5",
   "metadata": {},
   "outputs": [
    {
     "name": "stdout",
     "output_type": "stream",
     "text": [
      "****Gaurav\n",
      "**Gaurav**\n",
      "Gaurav****\n"
     ]
    }
   ],
   "source": [
    "string=\"Gaurav\"\n",
    "print(string.rjust(10,'*'))\n",
    "print(string.center(10,'*'))\n",
    "print(string.ljust(10,\"*\"))"
   ]
  },
  {
   "cell_type": "markdown",
   "id": "21cf3d67",
   "metadata": {},
   "source": [
    "### 10. What is the best way to remove whitespace characters from the start or end?"
   ]
  },
  {
   "cell_type": "markdown",
   "id": "8d23f0c0",
   "metadata": {},
   "source": [
    "By using strip(), if want to reomve start space use lstrip() and if want to remove end space use rstrip"
   ]
  },
  {
   "cell_type": "code",
   "execution_count": 14,
   "id": "d26766b9",
   "metadata": {},
   "outputs": [],
   "source": [
    "s = \"       gaurav        \""
   ]
  },
  {
   "cell_type": "code",
   "execution_count": 15,
   "id": "42b81d0c",
   "metadata": {},
   "outputs": [
    {
     "data": {
      "text/plain": [
       "'gaurav        '"
      ]
     },
     "execution_count": 15,
     "metadata": {},
     "output_type": "execute_result"
    }
   ],
   "source": [
    "s.lstrip()\n"
   ]
  },
  {
   "cell_type": "code",
   "execution_count": 16,
   "id": "ef4b6d3c",
   "metadata": {},
   "outputs": [
    {
     "data": {
      "text/plain": [
       "'gaurav'"
      ]
     },
     "execution_count": 16,
     "metadata": {},
     "output_type": "execute_result"
    }
   ],
   "source": [
    "s.strip()"
   ]
  },
  {
   "cell_type": "code",
   "execution_count": 17,
   "id": "43ebcb65",
   "metadata": {},
   "outputs": [
    {
     "data": {
      "text/plain": [
       "'       gaurav'"
      ]
     },
     "execution_count": 17,
     "metadata": {},
     "output_type": "execute_result"
    }
   ],
   "source": [
    "s.rstrip()"
   ]
  },
  {
   "cell_type": "code",
   "execution_count": null,
   "id": "3201b43c",
   "metadata": {},
   "outputs": [],
   "source": []
  }
 ],
 "metadata": {
  "kernelspec": {
   "display_name": "Python 3",
   "language": "python",
   "name": "python3"
  },
  "language_info": {
   "codemirror_mode": {
    "name": "ipython",
    "version": 3
   },
   "file_extension": ".py",
   "mimetype": "text/x-python",
   "name": "python",
   "nbconvert_exporter": "python",
   "pygments_lexer": "ipython3",
   "version": "3.8.8"
  }
 },
 "nbformat": 4,
 "nbformat_minor": 5
}
