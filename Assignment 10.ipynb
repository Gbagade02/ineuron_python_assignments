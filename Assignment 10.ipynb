{
 "cells": [
  {
   "cell_type": "markdown",
   "id": "36e3e766",
   "metadata": {},
   "source": [
    "### 1. How do you distinguish between shutil.copy() and shutil.copytree()?"
   ]
  },
  {
   "cell_type": "markdown",
   "id": "ef815ae1",
   "metadata": {},
   "source": [
    "shutil.copy() used to copy a single file\n",
    "\n",
    "shutil.copytree() used to copy an entire folder with all its contents."
   ]
  },
  {
   "cell_type": "markdown",
   "id": "abfe6e79",
   "metadata": {},
   "source": [
    "### 2. What function is used to rename files?"
   ]
  },
  {
   "cell_type": "markdown",
   "id": "dbe7f006",
   "metadata": {},
   "source": [
    "os.rename() used to rename a file or directory.\n",
    "\n",
    "os.rename('path/to/file.txt', 'path/to/new/directory/file.txt')"
   ]
  },
  {
   "cell_type": "markdown",
   "id": "f080d527",
   "metadata": {},
   "source": [
    "### 3. What is the difference between the delete functions in the send2trash and shutil modules?"
   ]
  },
  {
   "cell_type": "markdown",
   "id": "21d394c1",
   "metadata": {},
   "source": [
    "Delete() permanently delete files and folder.\n",
    "\n",
    "send2trash() move a file or folder to the recycle bin"
   ]
  },
  {
   "cell_type": "markdown",
   "id": "5f51562f",
   "metadata": {},
   "source": [
    "### 4.ZipFile objects have a close() method just like File objects’ close() method. What ZipFile method is equivalent to File objects’ open() method?"
   ]
  },
  {
   "cell_type": "markdown",
   "id": "5d2b0c70",
   "metadata": {},
   "source": [
    "zipfile.ZipFile() function is equivalent to the open() function.\n",
    "the first argument is the filename, and the second argument is the mode to open the ZIP file in (read, write, or append)."
   ]
  }
 ],
 "metadata": {
  "kernelspec": {
   "display_name": "Python 3",
   "language": "python",
   "name": "python3"
  },
  "language_info": {
   "codemirror_mode": {
    "name": "ipython",
    "version": 3
   },
   "file_extension": ".py",
   "mimetype": "text/x-python",
   "name": "python",
   "nbconvert_exporter": "python",
   "pygments_lexer": "ipython3",
   "version": "3.8.8"
  }
 },
 "nbformat": 4,
 "nbformat_minor": 5
}
