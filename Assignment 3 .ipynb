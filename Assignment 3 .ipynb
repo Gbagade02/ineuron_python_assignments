{
 "cells": [
  {
   "cell_type": "markdown",
   "id": "e47c4bf4",
   "metadata": {},
   "source": [
    "# Assignment 3 "
   ]
  },
  {
   "cell_type": "markdown",
   "id": "0b06346a",
   "metadata": {},
   "source": [
    "### 1. Why are functions advantageous to have in your programs?"
   ]
  },
  {
   "cell_type": "markdown",
   "id": "27517809",
   "metadata": {},
   "source": [
    "1. we can use same function many time when we want to perform same task in our program (Code reusability)<br>\n",
    "2. it will reduce you program code size\n",
    "3. easy to update any functionality in our program using functoins "
   ]
  },
  {
   "cell_type": "markdown",
   "id": "63f7976b",
   "metadata": {},
   "source": [
    "###  2. When does the code in a function run: when it&#39;s specified or when it&#39;s called?"
   ]
  },
  {
   "cell_type": "markdown",
   "id": "e0ffcbf2",
   "metadata": {},
   "source": [
    "The code in a function Run when  we called  that function"
   ]
  },
  {
   "cell_type": "code",
   "execution_count": 1,
   "id": "1b29dc56",
   "metadata": {},
   "outputs": [],
   "source": [
    "def add(a, b):\n",
    "    return a + b"
   ]
  },
  {
   "cell_type": "code",
   "execution_count": 2,
   "id": "a3962257",
   "metadata": {},
   "outputs": [
    {
     "data": {
      "text/plain": [
       "10"
      ]
     },
     "execution_count": 2,
     "metadata": {},
     "output_type": "execute_result"
    }
   ],
   "source": [
    "add(5,5)"
   ]
  },
  {
   "cell_type": "markdown",
   "id": "343b250b",
   "metadata": {},
   "source": [
    "### 3. What statement creates a function? "
   ]
  },
  {
   "cell_type": "markdown",
   "id": "d6c0b9ed",
   "metadata": {},
   "source": [
    "\"def\" keyword is used to create a function.So the def statement  defines that  a function is  created."
   ]
  },
  {
   "cell_type": "code",
   "execution_count": 3,
   "id": "0d016634",
   "metadata": {},
   "outputs": [],
   "source": [
    "def example():\n",
    "    pass"
   ]
  },
  {
   "cell_type": "code",
   "execution_count": 4,
   "id": "e4d283a4",
   "metadata": {},
   "outputs": [],
   "source": [
    "example()"
   ]
  },
  {
   "cell_type": "markdown",
   "id": "50d46373",
   "metadata": {},
   "source": [
    "### 4. What is the difference between a function and a function call?"
   ]
  },
  {
   "cell_type": "markdown",
   "id": "d0cfd47f",
   "metadata": {},
   "source": [
    "  A function consists of the def statement and the code is inside the def statement.\n",
    "\n",
    "  A function call is the code used to pass control to a function."
   ]
  },
  {
   "cell_type": "markdown",
   "id": "0f9382d8",
   "metadata": {},
   "source": [
    "### Function "
   ]
  },
  {
   "cell_type": "code",
   "execution_count": 5,
   "id": "fd48a679",
   "metadata": {},
   "outputs": [],
   "source": [
    "def call(a, b):\n",
    "    return a * b"
   ]
  },
  {
   "cell_type": "markdown",
   "id": "8ca86b1d",
   "metadata": {},
   "source": [
    "### Function call"
   ]
  },
  {
   "cell_type": "code",
   "execution_count": 6,
   "id": "f5ce9fd4",
   "metadata": {},
   "outputs": [
    {
     "data": {
      "text/plain": [
       "45"
      ]
     },
     "execution_count": 6,
     "metadata": {},
     "output_type": "execute_result"
    }
   ],
   "source": [
    "call(5,9)"
   ]
  },
  {
   "cell_type": "markdown",
   "id": "b4f714a6",
   "metadata": {},
   "source": [
    "### 5. How many global scopes are there in a Python program? How many local scopes?"
   ]
  },
  {
   "cell_type": "markdown",
   "id": "3f8ee936",
   "metadata": {},
   "source": [
    " There's only one global Python scope per program execution. This scope remains in existence until the program.\n",
    "    local scope is created whenever a function is called.\n",
    "\n",
    "    Example"
   ]
  },
  {
   "cell_type": "code",
   "execution_count": 7,
   "id": "9762a965",
   "metadata": {},
   "outputs": [
    {
     "name": "stdout",
     "output_type": "stream",
     "text": [
      "local var varible inside the function 45\n",
      "global var variable outside function defination 9\n"
     ]
    }
   ],
   "source": [
    "# global varible\n",
    "var = 9\n",
    "def test1(a): \n",
    "    var = a * 5\n",
    "    print(\"local var varible inside the function\", var)\n",
    "test1(9)\n",
    "print(\"global var variable outside function defination\", var)"
   ]
  },
  {
   "cell_type": "code",
   "execution_count": 8,
   "id": "85f8b807",
   "metadata": {},
   "outputs": [
    {
     "name": "stdout",
     "output_type": "stream",
     "text": [
      "Global Varible before updation 9\n",
      "local var varible inside the function 45\n",
      "global var variable outside function defination 45\n"
     ]
    }
   ],
   "source": [
    "# global varible\n",
    "var = 9\n",
    "print(\"Global Varible before updation\", var)\n",
    "def test1():\n",
    "    global var\n",
    "    var = var * 5\n",
    "    print(\"local var varible inside the function\", var)\n",
    "test1()\n",
    "print(\"global var variable outside function defination\", var)"
   ]
  },
  {
   "cell_type": "markdown",
   "id": "3f22437d",
   "metadata": {},
   "source": [
    "### 6. What happens to variables in a local scope when the function call returns? "
   ]
  },
  {
   "cell_type": "markdown",
   "id": "5bfb528f",
   "metadata": {},
   "source": [
    "When a function returns the local scope is destroyed, and all the variables in it are forgotten."
   ]
  },
  {
   "cell_type": "code",
   "execution_count": 9,
   "id": "ff61f9b5",
   "metadata": {},
   "outputs": [
    {
     "name": "stdout",
     "output_type": "stream",
     "text": [
      "Value of 'a' when function calling is 50\n",
      "Value of 'a' when function not called is FUNCTION\n"
     ]
    }
   ],
   "source": [
    "a=\"FUNCTION\"\n",
    "\n",
    "def fun():\n",
    "    a=50\n",
    "    return a\n",
    "\n",
    "print(\"Value of 'a' when function calling is\", fun())\n",
    "\n",
    "print(\"Value of 'a' when function not called is\",a)"
   ]
  },
  {
   "cell_type": "markdown",
   "id": "5e24d336",
   "metadata": {},
   "source": [
    "### 7. What is the concept of a return value? Is it possible to have a return value in an expression?"
   ]
  },
  {
   "cell_type": "markdown",
   "id": "2da71cf8",
   "metadata": {},
   "source": [
    "Return is a special statement use inside a function or method to send the function's result back to the caller.<br>\n",
    " Yes, it is possible to have a return value in an expression"
   ]
  },
  {
   "cell_type": "code",
   "execution_count": 10,
   "id": "4dacfb35",
   "metadata": {},
   "outputs": [
    {
     "name": "stdout",
     "output_type": "stream",
     "text": [
      "Nothing just fun \n"
     ]
    },
    {
     "data": {
      "text/plain": [
       "18"
      ]
     },
     "execution_count": 10,
     "metadata": {},
     "output_type": "execute_result"
    }
   ],
   "source": [
    "#Example \n",
    "def fun(a, b):\n",
    "    print(\"Nothing just fun \")\n",
    "    return a *b\n",
    "fun(2, 9)"
   ]
  },
  {
   "cell_type": "markdown",
   "id": "63b5edf6",
   "metadata": {},
   "source": [
    "### 8. If a function does not have a return statement, what is the return value of a call to that function?"
   ]
  },
  {
   "cell_type": "markdown",
   "id": "28f9b6fd",
   "metadata": {},
   "source": [
    "If a function does not have a return statement than  the return value of a call to that function is None.Function can exit without a return statement."
   ]
  },
  {
   "cell_type": "code",
   "execution_count": 11,
   "id": "0be7aa94",
   "metadata": {},
   "outputs": [
    {
     "name": "stdout",
     "output_type": "stream",
     "text": [
      "Nothing just fun \n",
      "if you don't want to use return use this one 18\n"
     ]
    }
   ],
   "source": [
    "#Example \n",
    "def fun(a, b):\n",
    "    print(\"Nothing just fun \")\n",
    "    print(\"if you don't want to use return use this one\", a * b)\n",
    "fun(2, 9)"
   ]
  },
  {
   "cell_type": "markdown",
   "id": "da077f92",
   "metadata": {},
   "source": [
    "### 9. How do you make a function variable refer to the global variable?"
   ]
  },
  {
   "cell_type": "markdown",
   "id": "8f94d140",
   "metadata": {},
   "source": [
    "By using \"global\" keyward we can make a function refer to the global varible."
   ]
  },
  {
   "cell_type": "code",
   "execution_count": 12,
   "id": "2ea8c1d5",
   "metadata": {},
   "outputs": [
    {
     "name": "stdout",
     "output_type": "stream",
     "text": [
      "Global Varible before updation 9\n",
      "local var varible inside the function 45\n",
      "global var variable outside function defination 45\n"
     ]
    }
   ],
   "source": [
    "# global varible\n",
    "var = 9\n",
    "print(\"Global Varible before updation\", var)\n",
    "def test1():\n",
    "    global var\n",
    "    var = var * 5\n",
    "    print(\"local var varible inside the function\", var)\n",
    "test1()\n",
    "print(\"global var variable outside function defination\", var)"
   ]
  },
  {
   "cell_type": "markdown",
   "id": "93d1015f",
   "metadata": {},
   "source": [
    "### 10. What is the data type of None? \n"
   ]
  },
  {
   "cell_type": "code",
   "execution_count": 13,
   "id": "926e7667",
   "metadata": {},
   "outputs": [
    {
     "data": {
      "text/plain": [
       "NoneType"
      ]
     },
     "execution_count": 13,
     "metadata": {},
     "output_type": "execute_result"
    }
   ],
   "source": [
    "type(None)"
   ]
  },
  {
   "cell_type": "markdown",
   "id": "55245efb",
   "metadata": {},
   "source": [
    "### 11. What does the sentence import areallyourpetsnamederic do?"
   ]
  },
  {
   "cell_type": "code",
   "execution_count": 14,
   "id": "0ed6020c",
   "metadata": {},
   "outputs": [
    {
     "ename": "ModuleNotFoundError",
     "evalue": "No module named 'areallyourpetsnamederic'",
     "output_type": "error",
     "traceback": [
      "\u001b[1;31m---------------------------------------------------------------------------\u001b[0m",
      "\u001b[1;31mModuleNotFoundError\u001b[0m                       Traceback (most recent call last)",
      "\u001b[1;32m<ipython-input-14-b1ea9cb2228f>\u001b[0m in \u001b[0;36m<module>\u001b[1;34m\u001b[0m\n\u001b[1;32m----> 1\u001b[1;33m \u001b[1;32mimport\u001b[0m \u001b[0mareallyourpetsnamederic\u001b[0m\u001b[1;33m\u001b[0m\u001b[1;33m\u001b[0m\u001b[0m\n\u001b[0m",
      "\u001b[1;31mModuleNotFoundError\u001b[0m: No module named 'areallyourpetsnamederic'"
     ]
    }
   ],
   "source": [
    " import areallyourpetsnamederic"
   ]
  },
  {
   "cell_type": "markdown",
   "id": "17287b00",
   "metadata": {},
   "source": [
    "The sentence import areallyourpetsnamederic imports module name \"areallyourpetsnamederic\".This is not real python module is there."
   ]
  },
  {
   "cell_type": "markdown",
   "id": "eb03e33b",
   "metadata": {},
   "source": [
    "### 12. If you had a bacon() feature in a spam module, what would you call it after importing spam?"
   ]
  },
  {
   "cell_type": "markdown",
   "id": "b84b0fe5",
   "metadata": {},
   "source": [
    "##### spam.bacon()"
   ]
  },
  {
   "cell_type": "markdown",
   "id": "415dd457",
   "metadata": {},
   "source": [
    "### 13. What can you do to save a programme from crashing if it encounters an error?"
   ]
  },
  {
   "cell_type": "markdown",
   "id": "02c4d3de",
   "metadata": {},
   "source": [
    "put that line of codes in 'try' clause"
   ]
  },
  {
   "cell_type": "markdown",
   "id": "867cef73",
   "metadata": {},
   "source": [
    "### 14. What is the purpose of the try clause? What is the purpose of the except clause?"
   ]
  },
  {
   "cell_type": "markdown",
   "id": "5db93d66",
   "metadata": {},
   "source": [
    "The purpose of the try clause is putting the codes insie  that may cause error .<br>\n",
    "The purpose of the except clause is  it execute only if error cause in try clause.<br>\n",
    "Example"
   ]
  },
  {
   "cell_type": "code",
   "execution_count": 15,
   "id": "aa055c3b",
   "metadata": {},
   "outputs": [
    {
     "name": "stdout",
     "output_type": "stream",
     "text": [
      "Enter first value 10\n",
      "Enter first value 0\n",
      "You are trying to division by zero, Please again without zero as denominator\n",
      "None\n"
     ]
    }
   ],
   "source": [
    "def div(n,d):\n",
    "    try:\n",
    "        result=n/d\n",
    "        return result\n",
    "    except ZeroDivisionError :\n",
    "        print(\"You are trying to division by zero, Please again without zero as denominator\")\n",
    "        \n",
    "    \n",
    "n=int(input(\"Enter first value \"))\n",
    "d=int(input(\"Enter first value \"))\n",
    "\n",
    "print(div(n,d))"
   ]
  },
  {
   "cell_type": "code",
   "execution_count": null,
   "id": "57a64f25",
   "metadata": {},
   "outputs": [],
   "source": []
  }
 ],
 "metadata": {
  "kernelspec": {
   "display_name": "Python 3",
   "language": "python",
   "name": "python3"
  },
  "language_info": {
   "codemirror_mode": {
    "name": "ipython",
    "version": 3
   },
   "file_extension": ".py",
   "mimetype": "text/x-python",
   "name": "python",
   "nbconvert_exporter": "python",
   "pygments_lexer": "ipython3",
   "version": "3.8.8"
  }
 },
 "nbformat": 4,
 "nbformat_minor": 5
}
