{
 "cells": [
  {
   "cell_type": "markdown",
   "id": "7cbdf654",
   "metadata": {},
   "source": [
    "### 1. What is the name of the feature responsible for generating Regex objects?"
   ]
  },
  {
   "cell_type": "markdown",
   "id": "f00b48d2",
   "metadata": {},
   "source": [
    "The re.compile() function returns Regex objects."
   ]
  },
  {
   "cell_type": "code",
   "execution_count": 2,
   "id": "abf60b08",
   "metadata": {},
   "outputs": [],
   "source": [
    "import re"
   ]
  },
  {
   "cell_type": "code",
   "execution_count": 3,
   "id": "cab540c7",
   "metadata": {},
   "outputs": [
    {
     "name": "stdout",
     "output_type": "stream",
     "text": [
      "re.compile('[RHS]at')\n",
      "\n",
      " ['Rat', 'Hat', 'Sat']\n"
     ]
    }
   ],
   "source": [
    "#The re.compile() function returns Regex objects.\n",
    "string=\"Rat Cat Mat Hat Sat Pat Qat\"\n",
    "\n",
    "patt=re.compile(\"[RHS]at\")\n",
    "print(patt)\n",
    "\n",
    "new_string=patt.findall(string)\n",
    "print(\"\\n\",new_string)\n"
   ]
  },
  {
   "cell_type": "markdown",
   "id": "a2456ff6",
   "metadata": {},
   "source": [
    "### 2. Why do raw strings often appear in Regex objects?"
   ]
  },
  {
   "cell_type": "markdown",
   "id": "f039d84c",
   "metadata": {},
   "source": [
    "Raw strings are used so that backslashes do not have to be escaped."
   ]
  },
  {
   "cell_type": "code",
   "execution_count": 4,
   "id": "ba7f791c",
   "metadata": {},
   "outputs": [
    {
     "name": "stdout",
     "output_type": "stream",
     "text": [
      " Sachin scores 766 and \n",
      " David scores 40 and Rohit score 88\n",
      "and Dhoni scores 99 \n",
      "\n",
      "['Sachin', 'David', 'Rohit', 'Dhoni']\n"
     ]
    }
   ],
   "source": [
    "crick_score=\"\"\" Sachin scores 766 and \\n David scores 40 and Rohit score 88\n",
    "and Dhoni scores 99\"\"\"\n",
    "\n",
    "print(crick_score,\"\\n\")\n",
    "\n",
    "name=re.findall(r\"[A-Z][a-z]*\",crick_score)\n",
    "print(name) "
   ]
  },
  {
   "cell_type": "markdown",
   "id": "0160f8a9",
   "metadata": {},
   "source": [
    "### 3. What is the return value of the search() method?"
   ]
  },
  {
   "cell_type": "markdown",
   "id": "1d1629c4",
   "metadata": {},
   "source": [
    "The search() method returns Match objects."
   ]
  },
  {
   "cell_type": "code",
   "execution_count": 5,
   "id": "9ef8353b",
   "metadata": {},
   "outputs": [
    {
     "name": "stdout",
     "output_type": "stream",
     "text": [
      "<re.Match object; span=(1, 7), match='Sachin'>\n"
     ]
    }
   ],
   "source": [
    "name=re.search(r\"[A-Z][a-z]*\",crick_score)\n",
    "print(name) "
   ]
  },
  {
   "cell_type": "markdown",
   "id": "3d69d9d5",
   "metadata": {},
   "source": [
    "### 4. From a Match item, how do you get the actual strings that match the pattern?"
   ]
  },
  {
   "cell_type": "markdown",
   "id": "d39b57d7",
   "metadata": {},
   "source": [
    "The group() method returns strings of the matched text."
   ]
  },
  {
   "cell_type": "code",
   "execution_count": 7,
   "id": "a438750b",
   "metadata": {},
   "outputs": [
    {
     "name": "stdout",
     "output_type": "stream",
     "text": [
      "Phone number found: +91-7774567891\n"
     ]
    }
   ],
   "source": [
    "phone=\"+91-7774567891\"\n",
    "\n",
    "patt=re.compile(r'\\+(\\d\\d)-(\\d\\d\\d\\d\\d\\d\\d\\d\\d\\d)')\n",
    "mo = patt.search(phone)\n",
    "print('Phone number found: ' + mo.group())"
   ]
  },
  {
   "cell_type": "markdown",
   "id": "b2747800",
   "metadata": {},
   "source": [
    "### 5. In the regex which created from the r&#39;(\\d\\d\\d)-(\\d\\d\\d-\\d\\d\\d\\d)&#39;, what does group zero cover?Group 2? Group 1? "
   ]
  },
  {
   "cell_type": "code",
   "execution_count": 8,
   "id": "392f3a59",
   "metadata": {},
   "outputs": [
    {
     "name": "stdout",
     "output_type": "stream",
     "text": [
      "group 0 cover: 777-456-7891\n",
      "group 1 cover: 777\n",
      "group 2 cover: 456-7891\n"
     ]
    }
   ],
   "source": [
    "phone=\"777-456-7891\"\n",
    "\n",
    "patt=re.compile(r'(\\d\\d\\d)-(\\d\\d\\d-\\d\\d\\d\\d)')\n",
    "mo = patt.search(phone)\n",
    "print('group 0 cover: ' + mo.group(0))\n",
    "print('group 1 cover: ' + mo.group(1))\n",
    "print('group 2 cover: ' + mo.group(2))"
   ]
  },
  {
   "cell_type": "markdown",
   "id": "4b56805b",
   "metadata": {},
   "source": [
    "### 6. In standard expression syntax, parentheses and intervals have distinct meanings. How can you tell a regex that you want it to fit real parentheses and periods?"
   ]
  },
  {
   "cell_type": "markdown",
   "id": "874eea83",
   "metadata": {},
   "source": [
    "Periods and parentheses can be escaped with a backslash: \\., \\(, and \\)."
   ]
  },
  {
   "cell_type": "code",
   "execution_count": 9,
   "id": "62efe345",
   "metadata": {},
   "outputs": [
    {
     "data": {
      "text/plain": [
       "['(', ')', '.']"
      ]
     },
     "execution_count": 9,
     "metadata": {},
     "output_type": "execute_result"
    }
   ],
   "source": [
    "email=\"ab(c)@gmail.com\"\n",
    "re.findall(r\"[\\( \\) \\.]\",email)"
   ]
  },
  {
   "cell_type": "markdown",
   "id": "630aa386",
   "metadata": {},
   "source": [
    "### 7. The findall() method returns a string list or a list of string tuples. What causes it to return one ofthe two options?"
   ]
  },
  {
   "cell_type": "markdown",
   "id": "1f0d6cb1",
   "metadata": {},
   "source": [
    "If the regex has no groups, a list of strings is returned. If the regex has groups, a list of tuples of strings is returned.\n"
   ]
  },
  {
   "cell_type": "code",
   "execution_count": 10,
   "id": "73d66189",
   "metadata": {},
   "outputs": [
    {
     "data": {
      "text/plain": [
       "'Rat Cat Mat Hat Sat Pat Qat'"
      ]
     },
     "execution_count": 10,
     "metadata": {},
     "output_type": "execute_result"
    }
   ],
   "source": [
    "string"
   ]
  },
  {
   "cell_type": "code",
   "execution_count": 11,
   "id": "4c2b8720",
   "metadata": {},
   "outputs": [
    {
     "name": "stdout",
     "output_type": "stream",
     "text": [
      "['Rat', 'Sat', 'Pat']\n",
      "[('777', '746-5789')]\n"
     ]
    }
   ],
   "source": [
    "#list\n",
    "print(re.findall(r\"[RSP]at\",string))\n",
    "\n",
    "#tuple\n",
    "phone=\"777-746-5789\"\n",
    "\n",
    "# patt=re.compile(r'(\\d\\d\\d)-(\\d\\d\\d-\\d\\d\\d\\d)')\n",
    "print(patt.findall(phone))"
   ]
  },
  {
   "cell_type": "markdown",
   "id": "034b5ae0",
   "metadata": {},
   "source": [
    "### 8. In standard expressions, what does the | character mean?"
   ]
  },
  {
   "cell_type": "markdown",
   "id": "2cc90504",
   "metadata": {},
   "source": [
    " | means `either, or`"
   ]
  },
  {
   "cell_type": "code",
   "execution_count": 12,
   "id": "482a106b",
   "metadata": {},
   "outputs": [
    {
     "data": {
      "text/plain": [
       "'Rat Cat Mat Hat Sat Pat Qat'"
      ]
     },
     "execution_count": 12,
     "metadata": {},
     "output_type": "execute_result"
    }
   ],
   "source": [
    "string"
   ]
  },
  {
   "cell_type": "code",
   "execution_count": 13,
   "id": "86890437",
   "metadata": {},
   "outputs": [
    {
     "name": "stdout",
     "output_type": "stream",
     "text": [
      "['Rat', 'Cat']\n"
     ]
    }
   ],
   "source": [
    "print(re.findall(r\"[B|CKR]at\",string))"
   ]
  },
  {
   "cell_type": "markdown",
   "id": "d27b3eca",
   "metadata": {},
   "source": [
    "### 9. In regular expressions, what does the character stand for?"
   ]
  },
  {
   "cell_type": "markdown",
   "id": "3159dd8a",
   "metadata": {},
   "source": [
    "The ? character can either mean “match zero or one\""
   ]
  },
  {
   "cell_type": "code",
   "execution_count": 14,
   "id": "e81f4330",
   "metadata": {},
   "outputs": [],
   "source": [
    "string=\"\"\"one\n",
    "oneo two\n",
    "o o\"\"\""
   ]
  },
  {
   "cell_type": "code",
   "execution_count": 15,
   "id": "7a4aa6f9",
   "metadata": {},
   "outputs": [
    {
     "name": "stdout",
     "output_type": "stream",
     "text": [
      "['on']\n"
     ]
    }
   ],
   "source": [
    "print(re.findall(r\"^o?[ne]\",string))"
   ]
  },
  {
   "cell_type": "markdown",
   "id": "df9c04b7",
   "metadata": {},
   "source": [
    "### 10.In regular expressions, what is the difference between the + and * characters?"
   ]
  },
  {
   "cell_type": "markdown",
   "id": "77ea06ef",
   "metadata": {},
   "source": [
    "0 or more occurances: *<br>\n",
    "1 or more occurances: +"
   ]
  },
  {
   "cell_type": "code",
   "execution_count": 21,
   "id": "4e0eabb4",
   "metadata": {},
   "outputs": [
    {
     "name": "stdout",
     "output_type": "stream",
     "text": [
      "['gaa']\n",
      "['gaa']\n"
     ]
    }
   ],
   "source": [
    "s=\"gaauravGAAURAV\"\n",
    "print(re.findall(r\"[A-Za-z][a*]{2}\",s))\n",
    "print(re.findall(r\"[A-Za-z][a+]{2}\",s))"
   ]
  },
  {
   "cell_type": "markdown",
   "id": "ac1548a2",
   "metadata": {},
   "source": [
    "### 11. What is the difference between {4} and {4,5} in regular expression?"
   ]
  },
  {
   "cell_type": "markdown",
   "id": "d6abd99e",
   "metadata": {},
   "source": [
    "Range of number of characters: {Minimum, Maximum}<br>\n",
    "\n",
    "{4} means minimum 4 character<br>\n",
    "{4,5} means minimum 4 and maximum 5 character <br>"
   ]
  },
  {
   "cell_type": "code",
   "execution_count": 22,
   "id": "d5fa1767",
   "metadata": {},
   "outputs": [
    {
     "name": "stdout",
     "output_type": "stream",
     "text": [
      "['gaur', 'avGA', 'URAV']\n",
      "['gaura', 'vGAUR']\n"
     ]
    }
   ],
   "source": [
    "s=\"gauravGAURAV\"\n",
    "print(re.findall(r\"[A-Za-z]{4}\",s))\n",
    "print(re.findall(r\"[A-Za-z]{4,5}\",s))"
   ]
  },
  {
   "cell_type": "markdown",
   "id": "52f61938",
   "metadata": {},
   "source": [
    "### 12. What do you mean by the \\d, \\w, and \\s shorthand character classes signify in regular expressions?"
   ]
  },
  {
   "cell_type": "markdown",
   "id": "e9bbe291",
   "metadata": {},
   "source": [
    "\"\\d\" Returns a match where the string contains digits (numbers from 0-9)   \n",
    "\n",
    "\"\\w\" Returns a match where the string contains any word characters (characters from a to Z, digits from 0-9, and the underscore _ character)\n",
    "\n",
    "\"\\s\" Returns a match where the string contains a white space character"
   ]
  },
  {
   "cell_type": "markdown",
   "id": "ccb0ef46",
   "metadata": {},
   "source": [
    "### 13. What do means by \\D, \\W, and \\S shorthand character classes signify in regular expressions?"
   ]
  },
  {
   "cell_type": "markdown",
   "id": "6ee40971",
   "metadata": {},
   "source": [
    "\"\\D\" Returns a match where the string DOES NOT contain digits\n",
    "\n",
    "\"\\S\" Returns a match where the string DOES NOT contain a white space character\n",
    "\n",
    "\"\\W\" Returns a match where the string DOES NOT contain any word characters"
   ]
  },
  {
   "cell_type": "markdown",
   "id": "a8a1cdaf",
   "metadata": {},
   "source": [
    "### 14. What is the difference between .*? and .*?"
   ]
  },
  {
   "cell_type": "markdown",
   "id": "efda5807",
   "metadata": {},
   "source": [
    "(.*?) matches any character (.) any number of times (*), as few times as possible to make the regex match (?).\n",
    "\n",
    "(.*)? captures a group zero or one times (?). That group consists of a run of any length (*) of any character (.)"
   ]
  },
  {
   "cell_type": "markdown",
   "id": "e266c2a5",
   "metadata": {},
   "source": [
    "### 15. What is the syntax for matching both numbers and lowercase letters with a character class?"
   ]
  },
  {
   "cell_type": "markdown",
   "id": "a30cd171",
   "metadata": {},
   "source": [
    "Either [0-9a-z] or [a-z0-9] both correct"
   ]
  },
  {
   "cell_type": "markdown",
   "id": "69dc5da1",
   "metadata": {},
   "source": [
    "### 16. What is the procedure for making a normal expression in regax case insensitive?"
   ]
  },
  {
   "cell_type": "markdown",
   "id": "c6d3351f",
   "metadata": {},
   "source": [
    "re.I or re.IGNORECASE as the second argument to re.compile() will make the matching case insensitive.\n"
   ]
  },
  {
   "cell_type": "code",
   "execution_count": 24,
   "id": "9b2ec5b7",
   "metadata": {},
   "outputs": [],
   "source": [
    "s='gauravGAURAV'"
   ]
  },
  {
   "cell_type": "code",
   "execution_count": 25,
   "id": "b438b362",
   "metadata": {},
   "outputs": [
    {
     "name": "stdout",
     "output_type": "stream",
     "text": [
      "[]\n",
      "['gauravGAURAV']\n"
     ]
    }
   ],
   "source": [
    "casesensitive = re.compile(\"gauravgaurav\")\n",
    "ignorecase = re.compile(\"gauravgaurav\", re.IGNORECASE)\n",
    "print(casesensitive.findall(s))\n",
    "print(ignorecase.findall(s))"
   ]
  },
  {
   "cell_type": "markdown",
   "id": "204b1291",
   "metadata": {},
   "source": [
    "### 17. What does the . character normally match? What does it match if re.DOTALL is passed as 2nd argument in re.compile()?"
   ]
  },
  {
   "cell_type": "markdown",
   "id": "29538a13",
   "metadata": {},
   "source": [
    "The . character normally matches any character except the newline character. If re.DOTALL is passed as the second argument to re.compile(), then the dot will also match newline characters."
   ]
  },
  {
   "cell_type": "code",
   "execution_count": 26,
   "id": "9089293b",
   "metadata": {},
   "outputs": [
    {
     "data": {
      "text/plain": [
       "'gaurav\\nGAURAV'"
      ]
     },
     "execution_count": 26,
     "metadata": {},
     "output_type": "execute_result"
    }
   ],
   "source": [
    "s=\"\"\"gaurav\n",
    "GAURAV\"\"\"\n",
    "s"
   ]
  },
  {
   "cell_type": "code",
   "execution_count": 27,
   "id": "8dc742e7",
   "metadata": {},
   "outputs": [
    {
     "data": {
      "text/plain": [
       "['g', 'a', 'u', 'r', 'a', 'v', 'G', 'A', 'U', 'R', 'A', 'V']"
      ]
     },
     "execution_count": 27,
     "metadata": {},
     "output_type": "execute_result"
    }
   ],
   "source": [
    "re.findall(\".\",s)"
   ]
  },
  {
   "cell_type": "code",
   "execution_count": 28,
   "id": "47f6b7f6",
   "metadata": {},
   "outputs": [
    {
     "data": {
      "text/plain": [
       "['gaurav\\nGAURAV']"
      ]
     },
     "execution_count": 28,
     "metadata": {},
     "output_type": "execute_result"
    }
   ],
   "source": [
    "dot=re.compile(s,re.DOTALL)\n",
    "dot.findall(s)"
   ]
  },
  {
   "cell_type": "markdown",
   "id": "77daacaa",
   "metadata": {},
   "source": [
    "### 18. If numReg = re.compile(r'\\d+'), what will numRegex.sub('X', '11 drummers, 10 pipers, five rings, 4 hen') return?"
   ]
  },
  {
   "cell_type": "markdown",
   "id": "6b7b7914",
   "metadata": {},
   "source": [
    "Sub used to replace number with X"
   ]
  },
  {
   "cell_type": "code",
   "execution_count": 31,
   "id": "8d40e07d",
   "metadata": {},
   "outputs": [
    {
     "data": {
      "text/plain": [
       "'X drummers, X pipers, five rings, X hen'"
      ]
     },
     "execution_count": 31,
     "metadata": {},
     "output_type": "execute_result"
    }
   ],
   "source": [
    "numReg = re.compile(r'\\d+')\n",
    "numReg.sub('X', '11 drummers, 10 pipers, five rings, 4 hen')"
   ]
  },
  {
   "cell_type": "markdown",
   "id": "e1a00e70",
   "metadata": {},
   "source": [
    "### 19. What does passing re.VERBOSE as the 2nd argument to re.compile() allow to do?"
   ]
  },
  {
   "cell_type": "markdown",
   "id": "e6490e30",
   "metadata": {},
   "source": [
    "The re.VERBOSE argument allows you to add whitespace and comments to the string passed to re.compile()."
   ]
  },
  {
   "cell_type": "code",
   "execution_count": 32,
   "id": "d602c28b",
   "metadata": {},
   "outputs": [
    {
     "data": {
      "text/plain": [
       "['gauravGAURAV', '', 'gaurav', '']"
      ]
     },
     "execution_count": 32,
     "metadata": {},
     "output_type": "execute_result"
    }
   ],
   "source": [
    "s=\"gauravGAURAV gaurav\"\n",
    "verbose=re.compile(r\"[A-Za-z]*\",re.VERBOSE)\n",
    "verbose.findall(s)"
   ]
  },
  {
   "cell_type": "markdown",
   "id": "94abccb6",
   "metadata": {},
   "source": [
    "### 20. How would you write a regex that match a number with comma for every three digits? It must match the given following:"
   ]
  },
  {
   "cell_type": "markdown",
   "id": "4fa827ef",
   "metadata": {},
   "source": [
    "'42'\n",
    "\n",
    "'1,234'\n",
    "\n",
    "'6,368,745'\n",
    "\n",
    "but not the following:\n",
    "\n",
    "'12,34,567' (which has only two digits between the commas)\n",
    "\n",
    "'1234' (which lacks commas)\n",
    "\n"
   ]
  },
  {
   "cell_type": "code",
   "execution_count": 33,
   "id": "121d2dca",
   "metadata": {},
   "outputs": [
    {
     "name": "stdout",
     "output_type": "stream",
     "text": [
      "['1,234']\n",
      "['6,368,745']\n"
     ]
    }
   ],
   "source": [
    "lst=['42','1,234','6,368,745','12,34,567','1234']\n",
    "patt=re.compile(r\"^\\d{1,3},\\d{3}.*\")\n",
    "for i in lst:\n",
    "    n=patt.findall(i)\n",
    "    if n!=[]:\n",
    "        print(n)"
   ]
  },
  {
   "cell_type": "markdown",
   "id": "eb75f99b",
   "metadata": {},
   "source": [
    "### 21. How would you write a regex that matches the full name of someone whose last name is Watanabe? You can assume that the first name that comes before it will always be one word that begins with a capital letter. The regex must match the following"
   ]
  },
  {
   "cell_type": "markdown",
   "id": "52cd0f4a",
   "metadata": {},
   "source": [
    "'Haruto Watanabe'\n",
    "\n",
    "'Alice Watanabe'\n",
    "\n",
    "'RoboCop Watanabe'\n",
    "\n",
    "but not the following:\n",
    "\n",
    "'haruto Watanabe' (where the first name is not capitalized)\n",
    "\n",
    "'Mr. Watanabe' (where the preceding word has a nonletter character)\n",
    "\n",
    "'Watanabe' (which has no first name)\n",
    "\n",
    "'Haruto watanabe' (where Watanabe is not capitalized)"
   ]
  },
  {
   "cell_type": "code",
   "execution_count": 34,
   "id": "cea78d8c",
   "metadata": {},
   "outputs": [
    {
     "name": "stdout",
     "output_type": "stream",
     "text": [
      "['Haruto Watanabe']\n",
      "['Alice Watanabe']\n"
     ]
    }
   ],
   "source": [
    "s=['Haruto Watanabe','Alice Watanabe','RoboCop Watanabe','haruto Watanabe','Mr. Watanabe','Watanabe' ,'Haruto watanabe']\n",
    "\n",
    "patt=re.compile(r\"^[A-Z][a-z]*\\sWatanabe\")\n",
    "for i in s:\n",
    "#       print(i)\n",
    "    n=patt.findall(i)\n",
    "    if n!=[]:\n",
    "        print(n)"
   ]
  },
  {
   "cell_type": "code",
   "execution_count": 35,
   "id": "c1ba4061",
   "metadata": {},
   "outputs": [
    {
     "data": {
      "text/plain": [
       "['Alice Watanabe']"
      ]
     },
     "execution_count": 35,
     "metadata": {},
     "output_type": "execute_result"
    }
   ],
   "source": [
    "patt.findall('Alice Watanabe')"
   ]
  },
  {
   "cell_type": "markdown",
   "id": "ef3a83b3",
   "metadata": {},
   "source": [
    "### 22. How would you write a regex that matches a sentence where the first word is either Alice, Bob, or Carol; the second word is either eats, pets, or throws; the third word is apples, cats, or baseballs; and the sentence ends with a period? This regex should be case-insensitive. It must match the following:"
   ]
  },
  {
   "cell_type": "markdown",
   "id": "462793f2",
   "metadata": {},
   "source": [
    "'Alice eats apples.'\n",
    "\n",
    "'Bob pets cats.'\n",
    "\n",
    "'Carol throws baseballs.'\n",
    "\n",
    "'Alice throws Apples.'\n",
    "\n",
    "'BOB EATS CATS.'\n",
    "\n",
    "'RoboCop eats apples.'\n",
    "\n",
    "'ALICE THROWS FOOTBALLS.'\n",
    "\n",
    "'Carol eats 7 cats.'"
   ]
  },
  {
   "cell_type": "code",
   "execution_count": 36,
   "id": "02b8098f",
   "metadata": {},
   "outputs": [
    {
     "name": "stdout",
     "output_type": "stream",
     "text": [
      "[('Alice', 'eats', 'apples')]\n",
      "[('Bob', 'pets', 'cats')]\n",
      "[('Alice', 'throws', 'Apples')]\n",
      "[('BOB', 'EATS', 'CATS')]\n"
     ]
    }
   ],
   "source": [
    "lst=['Alice eats apples.',\n",
    "\n",
    "'Bob pets cats.',\n",
    "\n",
    "'Carol throws baseballs.',\n",
    "\n",
    "'Alice throws Apples.',\n",
    "\n",
    "'BOB EATS CATS.',\n",
    "\n",
    "'RoboCop eats apples.',\n",
    "\n",
    "'ALICE THROWS FOOTBALLS.',\n",
    "\n",
    "'Carol eats 7 cats.']\n",
    "patt=re.compile(r\"^(Alice|Bob|Carol)\\s(eats|pets|throws)\\s(apples|cats|baseballs]).$\",re.IGNORECASE)\n",
    "for i in lst:\n",
    "#     print(i)\n",
    "    n=patt.findall(i)\n",
    "    if n!=[]:\n",
    "        print(n)"
   ]
  },
  {
   "cell_type": "code",
   "execution_count": null,
   "id": "c8f4e3f7",
   "metadata": {},
   "outputs": [],
   "source": []
  }
 ],
 "metadata": {
  "kernelspec": {
   "display_name": "Python 3",
   "language": "python",
   "name": "python3"
  },
  "language_info": {
   "codemirror_mode": {
    "name": "ipython",
    "version": 3
   },
   "file_extension": ".py",
   "mimetype": "text/x-python",
   "name": "python",
   "nbconvert_exporter": "python",
   "pygments_lexer": "ipython3",
   "version": "3.8.8"
  }
 },
 "nbformat": 4,
 "nbformat_minor": 5
}
