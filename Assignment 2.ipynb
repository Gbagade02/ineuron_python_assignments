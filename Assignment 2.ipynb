{
 "cells": [
  {
   "cell_type": "markdown",
   "id": "c9894af4",
   "metadata": {},
   "source": [
    "# Assignment 2"
   ]
  },
  {
   "cell_type": "markdown",
   "id": "11b3fa05",
   "metadata": {},
   "source": [
    "###  1.What are the two values of the Boolean data type? How do you write them?"
   ]
  },
  {
   "cell_type": "markdown",
   "id": "f2b5ec32",
   "metadata": {},
   "source": [
    "Boolean data type has 2 values as True and Flase "
   ]
  },
  {
   "cell_type": "code",
   "execution_count": 1,
   "id": "890cab17",
   "metadata": {},
   "outputs": [
    {
     "data": {
      "text/plain": [
       "True"
      ]
     },
     "execution_count": 1,
     "metadata": {},
     "output_type": "execute_result"
    }
   ],
   "source": [
    "True"
   ]
  },
  {
   "cell_type": "code",
   "execution_count": 2,
   "id": "2278fa3e",
   "metadata": {},
   "outputs": [
    {
     "data": {
      "text/plain": [
       "False"
      ]
     },
     "execution_count": 2,
     "metadata": {},
     "output_type": "execute_result"
    }
   ],
   "source": [
    "False"
   ]
  },
  {
   "cell_type": "markdown",
   "id": "98246231",
   "metadata": {},
   "source": [
    "### 2. What are the three different types of Boolean operators? "
   ]
  },
  {
   "cell_type": "markdown",
   "id": "1602c7cc",
   "metadata": {},
   "source": [
    "There are three different types of boolean operators<br>\n",
    "1. and <br>\n",
    "2. or <br>\n",
    "3. not "
   ]
  },
  {
   "cell_type": "code",
   "execution_count": 3,
   "id": "08579746",
   "metadata": {},
   "outputs": [
    {
     "data": {
      "text/plain": [
       "False"
      ]
     },
     "execution_count": 3,
     "metadata": {},
     "output_type": "execute_result"
    }
   ],
   "source": [
    "True and False"
   ]
  },
  {
   "cell_type": "code",
   "execution_count": 4,
   "id": "157fd5c8",
   "metadata": {},
   "outputs": [
    {
     "data": {
      "text/plain": [
       "True"
      ]
     },
     "execution_count": 4,
     "metadata": {},
     "output_type": "execute_result"
    }
   ],
   "source": [
    "True or False"
   ]
  },
  {
   "cell_type": "code",
   "execution_count": 5,
   "id": "50652d05",
   "metadata": {},
   "outputs": [
    {
     "data": {
      "text/plain": [
       "True"
      ]
     },
     "execution_count": 5,
     "metadata": {},
     "output_type": "execute_result"
    }
   ],
   "source": [
    "True and True"
   ]
  },
  {
   "cell_type": "code",
   "execution_count": 6,
   "id": "e3df90fb",
   "metadata": {},
   "outputs": [
    {
     "data": {
      "text/plain": [
       "False"
      ]
     },
     "execution_count": 6,
     "metadata": {},
     "output_type": "execute_result"
    }
   ],
   "source": [
    "True is not True"
   ]
  },
  {
   "cell_type": "markdown",
   "id": "fd765147",
   "metadata": {},
   "source": [
    "### 3. Make a list of each Boolean operator&#39;s truth tables (i.e. every possible combination of Boolean values for the operator and what it evaluate )."
   ]
  },
  {
   "cell_type": "code",
   "execution_count": 7,
   "id": "c1f163cf",
   "metadata": {},
   "outputs": [
    {
     "name": "stdout",
     "output_type": "stream",
     "text": [
      "TRUTH TABLE WITH  1 AND 0 Using AND Opertor \n",
      "\n",
      "0 + 0 = 0\n",
      "1 + 0 = 0\n",
      "0 + 1 = 0\n",
      "1 + 1 = 1\n",
      "\n",
      "TRUTH TABLE WITH  'TRUE' AND 'FALSE' Using AND Opertor \n",
      "\n",
      "False + False = False\n",
      "True  + False = False\n",
      "False + True  = False\n",
      "True  + True  = True\n",
      "\n",
      "TRUTH TABLE WITH  1 AND 0 Using OR Opertor \n",
      "\n",
      "0 + 0 = 0\n",
      "1 + 0 = 1\n",
      "0 + 1 = 1\n",
      "1 + 1 = 1\n",
      "\n",
      "TRUTH TABLE WITH  'TRUE' AND 'FALSE' Using OR Opertor \n",
      "\n",
      "False + False = False\n",
      "True  + False = True\n",
      "False + True  = True\n",
      "True  + True  = True\n",
      "\n",
      "TRUTH TABLE WITH  1 AND 0 Using NOT Opertor \n",
      "\n",
      "not 1 = 0\n",
      "not 0 = 1\n",
      "\n",
      "TRUTH TABLE WITH  'TRUE' AND 'FALSE' Using NOT Opertor \n",
      "\n",
      "not True  = False\n",
      "not False = True\n"
     ]
    }
   ],
   "source": [
    "a=True\n",
    "b=False\n",
    "print(\"TRUTH TABLE WITH  1 AND 0 Using AND Opertor \")\n",
    "print()\n",
    "print (\"0 + 0 =\",int(b and b))\n",
    "print (\"1 + 0 =\",int(a and b))\n",
    "print (\"0 + 1 =\",int(b and a))\n",
    "print (\"1 + 1 =\",int(a and a))\n",
    "print()\n",
    "print(\"TRUTH TABLE WITH  'TRUE' AND 'FALSE' Using AND Opertor \")\n",
    "print()\n",
    "print (\"False + False =\",bool(b and b))\n",
    "print (\"True  + False =\",bool(a and b))\n",
    "print (\"False + True  =\",bool(b and a))\n",
    "print (\"True  + True  =\",bool(a and a))\n",
    "print()\n",
    "print(\"TRUTH TABLE WITH  1 AND 0 Using OR Opertor \")\n",
    "print()\n",
    "print (\"0 + 0 =\",int(b or b))\n",
    "print (\"1 + 0 =\",int(a or b))\n",
    "print (\"0 + 1 =\",int(b or a))\n",
    "print (\"1 + 1 =\",int(a or a))\n",
    "print()\n",
    "print(\"TRUTH TABLE WITH  'TRUE' AND 'FALSE' Using OR Opertor \")\n",
    "print()\n",
    "print (\"False + False =\",bool(b or b))\n",
    "print (\"True  + False =\",bool(a or b))\n",
    "print (\"False + True  =\",bool(b or a))\n",
    "print (\"True  + True  =\",bool(a or a))\n",
    "print()\n",
    "print(\"TRUTH TABLE WITH  1 AND 0 Using NOT Opertor \")\n",
    "print()\n",
    "print (\"not 1 =\",int(not a))\n",
    "print (\"not 0 =\",int(not b))\n",
    "\n",
    "print()\n",
    "print(\"TRUTH TABLE WITH  'TRUE' AND 'FALSE' Using NOT Opertor \")\n",
    "print()\n",
    "print (\"not True  =\",bool(not a))\n",
    "print (\"not False =\",bool(not b))"
   ]
  },
  {
   "cell_type": "markdown",
   "id": "3b7852d2",
   "metadata": {},
   "source": [
    "### 4. What are the values of the following expressions?\n",
    "(5 &gt; 4) and (3 == 5)<br>\n",
    "not (5 &gt; 4)<br>\n",
    "(5 &gt; 4) or (3 == 5)<br>\n",
    "not ((5 &gt; 4) or (3 == 5))<br>\n",
    "(True and True) and (True == False)<br>\n",
    "(not False) or (not True) "
   ]
  },
  {
   "cell_type": "code",
   "execution_count": 8,
   "id": "cff7fa9a",
   "metadata": {},
   "outputs": [
    {
     "data": {
      "text/plain": [
       "False"
      ]
     },
     "execution_count": 8,
     "metadata": {},
     "output_type": "execute_result"
    }
   ],
   "source": [
    "(5 > 4) and (3 == 5)"
   ]
  },
  {
   "cell_type": "code",
   "execution_count": 9,
   "id": "6c5cc342",
   "metadata": {},
   "outputs": [
    {
     "data": {
      "text/plain": [
       "False"
      ]
     },
     "execution_count": 9,
     "metadata": {},
     "output_type": "execute_result"
    }
   ],
   "source": [
    "not (5 > 4)"
   ]
  },
  {
   "cell_type": "code",
   "execution_count": 10,
   "id": "ef7a765a",
   "metadata": {},
   "outputs": [
    {
     "data": {
      "text/plain": [
       "True"
      ]
     },
     "execution_count": 10,
     "metadata": {},
     "output_type": "execute_result"
    }
   ],
   "source": [
    "(5 > 4) or (3 == 5)"
   ]
  },
  {
   "cell_type": "code",
   "execution_count": 11,
   "id": "6ab799d7",
   "metadata": {},
   "outputs": [
    {
     "data": {
      "text/plain": [
       "False"
      ]
     },
     "execution_count": 11,
     "metadata": {},
     "output_type": "execute_result"
    }
   ],
   "source": [
    "not ((5 > 4) or (3 == 5))"
   ]
  },
  {
   "cell_type": "code",
   "execution_count": 12,
   "id": "0d04ceb1",
   "metadata": {},
   "outputs": [
    {
     "data": {
      "text/plain": [
       "False"
      ]
     },
     "execution_count": 12,
     "metadata": {},
     "output_type": "execute_result"
    }
   ],
   "source": [
    "(True and True) and (True == False)"
   ]
  },
  {
   "cell_type": "code",
   "execution_count": 13,
   "id": "16edf1d4",
   "metadata": {},
   "outputs": [
    {
     "data": {
      "text/plain": [
       "True"
      ]
     },
     "execution_count": 13,
     "metadata": {},
     "output_type": "execute_result"
    }
   ],
   "source": [
    "(not False) or (not True)"
   ]
  },
  {
   "cell_type": "markdown",
   "id": "cd69f7b0",
   "metadata": {},
   "source": [
    "### 5. What are the six comparison operators?"
   ]
  },
  {
   "cell_type": "markdown",
   "id": "039b6d5e",
   "metadata": {},
   "source": [
    "1. less than (<)<br>\n",
    "2. less than equal to (<=)<br>\n",
    "3. greater than (>)<br>\n",
    "4. greater than (>=)<br>\n",
    "5. is equal to (==)<br>\n",
    "6. is not equal to (!=)<br>\n"
   ]
  },
  {
   "cell_type": "code",
   "execution_count": 14,
   "id": "9215304c",
   "metadata": {},
   "outputs": [],
   "source": [
    "a = 50 \n",
    "b = 51"
   ]
  },
  {
   "cell_type": "code",
   "execution_count": 15,
   "id": "0e8e6010",
   "metadata": {},
   "outputs": [
    {
     "data": {
      "text/plain": [
       "True"
      ]
     },
     "execution_count": 15,
     "metadata": {},
     "output_type": "execute_result"
    }
   ],
   "source": [
    "a < b"
   ]
  },
  {
   "cell_type": "code",
   "execution_count": 16,
   "id": "2bcfe391",
   "metadata": {},
   "outputs": [
    {
     "data": {
      "text/plain": [
       "True"
      ]
     },
     "execution_count": 16,
     "metadata": {},
     "output_type": "execute_result"
    }
   ],
   "source": [
    "a <= b"
   ]
  },
  {
   "cell_type": "code",
   "execution_count": 17,
   "id": "9a90a21f",
   "metadata": {},
   "outputs": [
    {
     "data": {
      "text/plain": [
       "False"
      ]
     },
     "execution_count": 17,
     "metadata": {},
     "output_type": "execute_result"
    }
   ],
   "source": [
    "a > b"
   ]
  },
  {
   "cell_type": "code",
   "execution_count": 18,
   "id": "a35dfe35",
   "metadata": {},
   "outputs": [
    {
     "data": {
      "text/plain": [
       "False"
      ]
     },
     "execution_count": 18,
     "metadata": {},
     "output_type": "execute_result"
    }
   ],
   "source": [
    "a >= b"
   ]
  },
  {
   "cell_type": "code",
   "execution_count": 19,
   "id": "5945a22c",
   "metadata": {},
   "outputs": [
    {
     "data": {
      "text/plain": [
       "False"
      ]
     },
     "execution_count": 19,
     "metadata": {},
     "output_type": "execute_result"
    }
   ],
   "source": [
    "a == b"
   ]
  },
  {
   "cell_type": "code",
   "execution_count": 20,
   "id": "0d92c7f5",
   "metadata": {},
   "outputs": [
    {
     "data": {
      "text/plain": [
       "True"
      ]
     },
     "execution_count": 20,
     "metadata": {},
     "output_type": "execute_result"
    }
   ],
   "source": [
    "a != b"
   ]
  },
  {
   "cell_type": "markdown",
   "id": "b1482b1a",
   "metadata": {},
   "source": [
    "### 6. How do you tell the difference between the equal to and assignment operators?Describe a condition and when you would use one. "
   ]
  },
  {
   "cell_type": "markdown",
   "id": "671cb4bb",
   "metadata": {},
   "source": [
    " = This operator is used to assign values to varible <br>\n",
    " == this is equal to operator "
   ]
  },
  {
   "cell_type": "code",
   "execution_count": 21,
   "id": "28813ab1",
   "metadata": {},
   "outputs": [],
   "source": [
    " a = 5"
   ]
  },
  {
   "cell_type": "code",
   "execution_count": 22,
   "id": "39846263",
   "metadata": {},
   "outputs": [
    {
     "data": {
      "text/plain": [
       "True"
      ]
     },
     "execution_count": 22,
     "metadata": {},
     "output_type": "execute_result"
    }
   ],
   "source": [
    "a == 5"
   ]
  },
  {
   "cell_type": "markdown",
   "id": "e8902a6e",
   "metadata": {},
   "source": [
    "### 7. Identify the three blocks in this code: "
   ]
  },
  {
   "cell_type": "markdown",
   "id": "0868f57b",
   "metadata": {},
   "source": [
    "spam = 0<br>\n",
    "if spam == 10:<br>\n",
    "print('eggs')<br>\n",
    "if spam > 5:<br>\n",
    "print('bacon')<br>\n",
    "else:<br>\n",
    "print('ham')<br>\n",
    "print('spam')<br>\n",
    "print('spam')<br>"
   ]
  },
  {
   "cell_type": "code",
   "execution_count": 23,
   "id": "314bdc1d",
   "metadata": {},
   "outputs": [
    {
     "name": "stdout",
     "output_type": "stream",
     "text": [
      "ham\n",
      "spam\n",
      "spam\n"
     ]
    }
   ],
   "source": [
    "spam = 0\n",
    "if spam == 10:\n",
    "    print('eggs')\n",
    "    if spam > 5:\n",
    "        print('bacon')\n",
    "else:\n",
    "    print('ham')\n",
    "    print('spam')\n",
    "    print('spam')"
   ]
  },
  {
   "cell_type": "markdown",
   "id": "981d0310",
   "metadata": {},
   "source": [
    "### 8. Write code that prints Hello if 1 is stored in spam, prints Howdy if 2 is stored in spam, and prints Greetings! if anything else is stored in spam."
   ]
  },
  {
   "cell_type": "code",
   "execution_count": 24,
   "id": "7d3ec76e",
   "metadata": {},
   "outputs": [
    {
     "name": "stdout",
     "output_type": "stream",
     "text": [
      "Greetings\n"
     ]
    }
   ],
   "source": [
    "spam  = 5\n",
    "if (spam == 1):\n",
    "    print(\"hello\")\n",
    "elif(spam == 2):\n",
    "    print(\"Howdy\")\n",
    "else:\n",
    "    print(\"Greetings\")"
   ]
  },
  {
   "cell_type": "markdown",
   "id": "f0f75774",
   "metadata": {},
   "source": [
    "### 9.If your programme is stuck in an endless loop, what keys you’ll press?"
   ]
  },
  {
   "cell_type": "markdown",
   "id": "ec0b7812",
   "metadata": {},
   "source": [
    "ctrl + c"
   ]
  },
  {
   "attachments": {
    "Screenshot%202022-08-06%20171215.jpg": {
     "image/jpeg": "[encoded data removed]"
    }
   },
   "cell_type": "markdown",
   "id": "41701070",
   "metadata": {},
   "source": [
    "![Screenshot%202022-08-06%20171215.jpg](attachment:Screenshot%202022-08-06%20171215.jpg)"
   ]
  },
  {
   "cell_type": "markdown",
   "id": "5a196f15",
   "metadata": {},
   "source": [
    "### 10. How can you tell the difference between break and continue?"
   ]
  },
  {
   "cell_type": "markdown",
   "id": "fe4e0ff4",
   "metadata": {},
   "source": [
    "'break' means terminate the excute after getting  break <br>\n",
    "'continue' means after getting continue   move again to the decision-maker(if, while, for) and didn't  goes to the nextline"
   ]
  },
  {
   "cell_type": "code",
   "execution_count": 25,
   "id": "7bb083e0",
   "metadata": {},
   "outputs": [
    {
     "name": "stdout",
     "output_type": "stream",
     "text": [
      "0\n",
      "1\n",
      "2\n",
      "3\n",
      "4\n"
     ]
    }
   ],
   "source": [
    "n=10\n",
    "for i in range(n):\n",
    "    if i==5:\n",
    "        break # break -stop after getting i==5  \n",
    "    print(i)\n"
   ]
  },
  {
   "cell_type": "code",
   "execution_count": 26,
   "id": "b9809cd4",
   "metadata": {},
   "outputs": [
    {
     "name": "stdout",
     "output_type": "stream",
     "text": [
      "0\n",
      "1\n",
      "2\n",
      "3\n",
      "4\n",
      "6\n",
      "7\n",
      "8\n",
      "9\n"
     ]
    }
   ],
   "source": [
    "for i in range(n):\n",
    "    if i==5:\n",
    "        continue \n",
    "    print(i)  "
   ]
  },
  {
   "cell_type": "markdown",
   "id": "91d4bb53",
   "metadata": {},
   "source": [
    "### 11. In a for loop, what is the difference between range(10), range(0, 10), and range(0, 10, 1)? "
   ]
  },
  {
   "cell_type": "markdown",
   "id": "897d854c",
   "metadata": {},
   "source": [
    "All are same ,all range function mentioned above work exactly same.\n",
    "\n",
    "     range() is made by three paramaters range(start,end,step) by default start =0 and step =1 \n",
    "\n",
    "     \n",
    "\n",
    "     2.range(0,10) in this start =0(mentioned), end=10(mentioned),step=1(default)\n",
    "\n",
    "     3.range(0,10,1)in this start =0(mentioned), end=10(mentioned),step=1(mentioned)"
   ]
  },
  {
   "cell_type": "markdown",
   "id": "73511b28",
   "metadata": {},
   "source": [
    "1.range(10) in this start=0(default) , end=10(mentioned), step =1(default) means loop start from 0 to 10 and take step 1 as increament (0,1,2,3,4,5,6,7,8,9)"
   ]
  },
  {
   "cell_type": "code",
   "execution_count": 27,
   "id": "e81a6951",
   "metadata": {},
   "outputs": [
    {
     "name": "stdout",
     "output_type": "stream",
     "text": [
      "0\n",
      "1\n",
      "2\n",
      "3\n",
      "4\n",
      "5\n",
      "6\n",
      "7\n",
      "8\n",
      "9\n"
     ]
    }
   ],
   "source": [
    "for i in range(10):\n",
    "    print(i)"
   ]
  },
  {
   "cell_type": "markdown",
   "id": "461981f9",
   "metadata": {},
   "source": [
    "2.range(0,10) in this start =0(mentioned), end=10(mentioned),step=1(default)"
   ]
  },
  {
   "cell_type": "code",
   "execution_count": 28,
   "id": "d1790cc6",
   "metadata": {},
   "outputs": [
    {
     "name": "stdout",
     "output_type": "stream",
     "text": [
      "0\n",
      "1\n",
      "2\n",
      "3\n",
      "4\n",
      "5\n",
      "6\n",
      "7\n",
      "8\n",
      "9\n"
     ]
    }
   ],
   "source": [
    "for i in range(0,10):\n",
    "    print(i)"
   ]
  },
  {
   "cell_type": "markdown",
   "id": "7579413c",
   "metadata": {},
   "source": [
    "3.range(0,10,1)in this start =0(mentioned), end=10(mentioned),step=1(mentioned)"
   ]
  },
  {
   "cell_type": "code",
   "execution_count": 29,
   "id": "785d6169",
   "metadata": {},
   "outputs": [
    {
     "name": "stdout",
     "output_type": "stream",
     "text": [
      "0\n",
      "1\n",
      "2\n",
      "3\n",
      "4\n",
      "5\n",
      "6\n",
      "7\n",
      "8\n",
      "9\n"
     ]
    }
   ],
   "source": [
    "for i in range(0,10,1):\n",
    "    print(i)"
   ]
  },
  {
   "cell_type": "markdown",
   "id": "9b20424f",
   "metadata": {},
   "source": [
    "### 12. Write a short program that prints the numbers 1 to 10 using a for loop. Then write an equivalent program that prints the numbers 1 to 10 using a while loop."
   ]
  },
  {
   "cell_type": "code",
   "execution_count": 30,
   "id": "fccb2592",
   "metadata": {},
   "outputs": [
    {
     "name": "stdout",
     "output_type": "stream",
     "text": [
      "1\n",
      "2\n",
      "3\n",
      "4\n",
      "5\n",
      "6\n",
      "7\n",
      "8\n",
      "9\n",
      "10\n"
     ]
    }
   ],
   "source": [
    "for i in range(1, 11):\n",
    "    print(i)"
   ]
  },
  {
   "cell_type": "code",
   "execution_count": 31,
   "id": "923da049",
   "metadata": {},
   "outputs": [
    {
     "name": "stdout",
     "output_type": "stream",
     "text": [
      "1\n",
      "2\n",
      "3\n",
      "4\n",
      "5\n",
      "6\n",
      "7\n",
      "8\n",
      "9\n",
      "10\n"
     ]
    }
   ],
   "source": [
    "i = 1\n",
    "while i <= 10:\n",
    "    print(i)\n",
    "    i += 1"
   ]
  },
  {
   "cell_type": "markdown",
   "id": "9e053c70",
   "metadata": {},
   "source": [
    "### 13. If you had a function named bacon() inside a module named spam, how would you call it after importing spam?"
   ]
  },
  {
   "cell_type": "markdown",
   "id": "50343932",
   "metadata": {},
   "source": [
    "spam.bacon()"
   ]
  },
  {
   "cell_type": "code",
   "execution_count": null,
   "id": "a2d1cd9a",
   "metadata": {},
   "outputs": [],
   "source": []
  }
 ],
 "metadata": {
  "kernelspec": {
   "display_name": "Python 3",
   "language": "python",
   "name": "python3"
  },
  "language_info": {
   "codemirror_mode": {
    "name": "ipython",
    "version": 3
   },
   "file_extension": ".py",
   "mimetype": "text/x-python",
   "name": "python",
   "nbconvert_exporter": "python",
   "pygments_lexer": "ipython3",
   "version": "3.8.8"
  }
 },
 "nbformat": 4,
 "nbformat_minor": 5
}
