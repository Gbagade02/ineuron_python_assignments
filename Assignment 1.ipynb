{
 "cells": [
  {
   "cell_type": "markdown",
   "id": "9062fc67",
   "metadata": {},
   "source": [
    "# Assignment 1"
   ]
  },
  {
   "cell_type": "markdown",
   "id": "54815baf",
   "metadata": {},
   "source": [
    "### 1. In the below elements which of them are values or an expression? eg:- values can be integer or string and expressions will be mathematical operators.\n"
   ]
  },
  {
   "cell_type": "markdown",
   "id": "446007f2",
   "metadata": {},
   "source": [
    "1=  *  -  Expression (This is mathematical operator.)<br>\n",
    "2 =  'hello'  - value (This is string value)<br>\n",
    "3 =  -87.8 - value(This is float value)<br>\n",
    "4 = - Expression (This is mathemagical operator)<br>\n",
    "5 =  / Expression (This is mathematical operator)<br>\n",
    "6 =  + Expression (This is mathematical operator)<br>\n",
    "7 = 6 value(This is int value)<br>"
   ]
  },
  {
   "cell_type": "markdown",
   "id": "1bb8e896",
   "metadata": {},
   "source": [
    "###  2. What is the difference between string and variable?"
   ]
  },
  {
   "cell_type": "markdown",
   "id": "d7263185",
   "metadata": {},
   "source": [
    " String = any value which written inside quotes '' or double quotes \"\" . mostly use to store alphabates and sequeans of alphabets <br>\n",
    "varible = it means logical name to any data (varible is use to store data of any type)\n",
    " "
   ]
  },
  {
   "cell_type": "markdown",
   "id": "eb119472",
   "metadata": {},
   "source": [
    "example of string data type"
   ]
  },
  {
   "cell_type": "code",
   "execution_count": 1,
   "id": "31e755d2",
   "metadata": {},
   "outputs": [],
   "source": [
    "a = \"gaurav\"\n",
    "b ='b'\n",
    "c = 'adas13516'"
   ]
  },
  {
   "cell_type": "markdown",
   "id": "b275ccac",
   "metadata": {},
   "source": [
    "#### example of varible "
   ]
  },
  {
   "cell_type": "code",
   "execution_count": 2,
   "id": "18bd2467",
   "metadata": {},
   "outputs": [],
   "source": [
    "a = \"gaurav\"\n",
    "b = 14\n",
    "c = [1,2,3]\n",
    "d = 4+5j"
   ]
  },
  {
   "cell_type": "markdown",
   "id": "dd1cd7e1",
   "metadata": {},
   "source": [
    "## 3. Describe three different data types. "
   ]
  },
  {
   "cell_type": "markdown",
   "id": "cee99fbe",
   "metadata": {},
   "source": [
    "<br>1. int = This data type is use to store any integer value it may be posivtive or negative but without decimal points <br> \n",
    "2 flaot =  This data type is use to store any integer value it may be posivtive or negative but with decimal points <br>\n",
    "3 complex = This datatype stores real + imaginary  no (3+4j)"
   ]
  },
  {
   "cell_type": "markdown",
   "id": "c0cb28a8",
   "metadata": {},
   "source": [
    "Example"
   ]
  },
  {
   "cell_type": "code",
   "execution_count": 3,
   "id": "ddc4edab",
   "metadata": {},
   "outputs": [],
   "source": [
    "a = 5 # int \n",
    "b = 5.5 # float\n",
    "c = 3+5j # complex"
   ]
  },
  {
   "cell_type": "markdown",
   "id": "e78ae27a",
   "metadata": {},
   "source": [
    "### 4. What is an expression made up of? What do all expressions do? "
   ]
  },
  {
   "cell_type": "markdown",
   "id": "5c1d7431",
   "metadata": {},
   "source": [
    "Expression is made up of numbers variables and operators and follows  the Bodmas rule follows the order of the BODMAS acronym ie B – Brackets, O – Order of powers or roots, D – Division, M – Multiplication A – Addition, and S – Subtraction the BODMAS rule states that mathematical expressions with multiple operators need to be solved from left to right in the order of BODMAS."
   ]
  },
  {
   "cell_type": "code",
   "execution_count": 4,
   "id": "feade7ba",
   "metadata": {},
   "outputs": [],
   "source": [
    "a = 5 \n",
    "b = 1\n",
    "c = 4\n",
    "d = 3"
   ]
  },
  {
   "cell_type": "code",
   "execution_count": 5,
   "id": "87247343",
   "metadata": {},
   "outputs": [],
   "source": [
    "all = [(a+b)/(b-c)*(b-d)*(d+a)]"
   ]
  },
  {
   "cell_type": "code",
   "execution_count": 6,
   "id": "80c74ae9",
   "metadata": {},
   "outputs": [
    {
     "data": {
      "text/plain": [
       "[32.0]"
      ]
     },
     "execution_count": 6,
     "metadata": {},
     "output_type": "execute_result"
    }
   ],
   "source": [
    "all"
   ]
  },
  {
   "cell_type": "markdown",
   "id": "927127f5",
   "metadata": {},
   "source": [
    "### 5. This assignment statements, like spam = 10. What is the difference between an expression and a statement?"
   ]
  },
  {
   "cell_type": "markdown",
   "id": "3e19ac07",
   "metadata": {},
   "source": [
    "Expression is made up of numbers variables and operators liike a = b + c it will store single value after performing b +c opoeration and statement is use for assignment values to variable  "
   ]
  },
  {
   "cell_type": "markdown",
   "id": "09a4a75f",
   "metadata": {},
   "source": [
    "###  6. After running the following code, what does the variable bacon contain?                                                     bacon = 22                                                                                                                                                                         bacon + 1\n"
   ]
  },
  {
   "cell_type": "code",
   "execution_count": 7,
   "id": "5a458f9d",
   "metadata": {},
   "outputs": [],
   "source": [
    "bacon = 22"
   ]
  },
  {
   "cell_type": "code",
   "execution_count": 8,
   "id": "e7282b7a",
   "metadata": {},
   "outputs": [
    {
     "data": {
      "text/plain": [
       "23"
      ]
     },
     "execution_count": 8,
     "metadata": {},
     "output_type": "execute_result"
    }
   ],
   "source": [
    "bacon + 1"
   ]
  },
  {
   "cell_type": "markdown",
   "id": "92abd0d0",
   "metadata": {},
   "source": [
    "#### 7. What should the values of the following two terms be?\n",
    "'spam' + 'spamspam'\n",
    "'spam' * 3\n"
   ]
  },
  {
   "cell_type": "code",
   "execution_count": 9,
   "id": "0fb9f33e",
   "metadata": {},
   "outputs": [
    {
     "data": {
      "text/plain": [
       "'spamspamspam'"
      ]
     },
     "execution_count": 9,
     "metadata": {},
     "output_type": "execute_result"
    }
   ],
   "source": [
    "'spam' + 'spamspam'"
   ]
  },
  {
   "cell_type": "code",
   "execution_count": 10,
   "id": "f94278bc",
   "metadata": {},
   "outputs": [
    {
     "data": {
      "text/plain": [
       "'spamspamspam'"
      ]
     },
     "execution_count": 10,
     "metadata": {},
     "output_type": "execute_result"
    }
   ],
   "source": [
    "'spam' * 3"
   ]
  },
  {
   "cell_type": "markdown",
   "id": "2b7c4393",
   "metadata": {},
   "source": [
    "### 8. Why is eggs a valid variable name while 100 is invalid?"
   ]
  },
  {
   "cell_type": "markdown",
   "id": "4dd1209f",
   "metadata": {},
   "source": [
    "   Because giving varible name it have some rules which we have to follow like<br>\n",
    "    1.varible can only  start with string or it can be follow by underscore(_) like _eggs<br>\n",
    "    2. can't start with number  but  it can be follow by string like eggs100 <br>\n",
    "    3. can't be a keyword  like while , for , is , True,print,else  or etc<br>\n",
    "    4. can't contains symbol like @,#,%,$ , but can contain _<br>\n",
    "    5. no space between varible for space purpose we can use _ like eggs_100<br>"
   ]
  },
  {
   "cell_type": "markdown",
   "id": "e7457ca5",
   "metadata": {},
   "source": [
    "### 9. What three functions can be used to get the integer, floating-point number, or string version of a value?"
   ]
  },
  {
   "cell_type": "markdown",
   "id": "b0007498",
   "metadata": {},
   "source": [
    "int() for integer value,<br>\n",
    "float() for floating-point number<br>\n",
    "str() for string value<br>"
   ]
  },
  {
   "cell_type": "markdown",
   "id": "039bb003",
   "metadata": {},
   "source": [
    "### 10. Why does this expression cause an error? How can you fix it?\n",
    "'I have eaten ' + 99 + ' burritos.'\n"
   ]
  },
  {
   "cell_type": "code",
   "execution_count": 11,
   "id": "eae95b7e",
   "metadata": {},
   "outputs": [
    {
     "ename": "TypeError",
     "evalue": "can only concatenate str (not \"int\") to str",
     "output_type": "error",
     "traceback": [
      "\u001b[1;31m---------------------------------------------------------------------------\u001b[0m",
      "\u001b[1;31mTypeError\u001b[0m                                 Traceback (most recent call last)",
      "\u001b[1;32m<ipython-input-11-d24137131a5c>\u001b[0m in \u001b[0;36m<module>\u001b[1;34m\u001b[0m\n\u001b[1;32m----> 1\u001b[1;33m \u001b[1;34m'I have eaten '\u001b[0m \u001b[1;33m+\u001b[0m \u001b[1;36m99\u001b[0m \u001b[1;33m+\u001b[0m \u001b[1;34m' burritos.'\u001b[0m\u001b[1;33m\u001b[0m\u001b[1;33m\u001b[0m\u001b[0m\n\u001b[0m",
      "\u001b[1;31mTypeError\u001b[0m: can only concatenate str (not \"int\") to str"
     ]
    }
   ],
   "source": [
    "'I have eaten ' + 99 + ' burritos.'"
   ]
  },
  {
   "cell_type": "markdown",
   "id": "b9e6797d",
   "metadata": {},
   "source": [
    "as you see in  this error we can concatenate only same type for values here we are using string and int "
   ]
  },
  {
   "cell_type": "code",
   "execution_count": 12,
   "id": "2dc16dec",
   "metadata": {},
   "outputs": [
    {
     "data": {
      "text/plain": [
       "'I have eaten 99 burritos.'"
      ]
     },
     "execution_count": 12,
     "metadata": {},
     "output_type": "execute_result"
    }
   ],
   "source": [
    "'I have eaten ' + '99' + ' burritos.'"
   ]
  },
  {
   "cell_type": "code",
   "execution_count": null,
   "id": "532d2650",
   "metadata": {},
   "outputs": [],
   "source": []
  }
 ],
 "metadata": {
  "kernelspec": {
   "display_name": "Python 3",
   "language": "python",
   "name": "python3"
  },
  "language_info": {
   "codemirror_mode": {
    "name": "ipython",
    "version": 3
   },
   "file_extension": ".py",
   "mimetype": "text/x-python",
   "name": "python",
   "nbconvert_exporter": "python",
   "pygments_lexer": "ipython3",
   "version": "3.8.8"
  }
 },
 "nbformat": 4,
 "nbformat_minor": 5
}
