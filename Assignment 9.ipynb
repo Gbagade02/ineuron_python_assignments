{
 "cells": [
  {
   "cell_type": "markdown",
   "id": "b82e4d00",
   "metadata": {},
   "source": [
    "### 1. To what does a relative path refer?"
   ]
  },
  {
   "cell_type": "markdown",
   "id": "ae4036aa",
   "metadata": {},
   "source": [
    "A relative path refers to a location that is relative to a current directory."
   ]
  },
  {
   "cell_type": "markdown",
   "id": "b0d0aa78",
   "metadata": {},
   "source": [
    "### 2. What does an absolute path start with your operating system?"
   ]
  },
  {
   "cell_type": "markdown",
   "id": "5fe438d8",
   "metadata": {},
   "source": [
    "Absolute Path start with root folder such as C:\\,D:\\."
   ]
  },
  {
   "cell_type": "markdown",
   "id": "e5b1b892",
   "metadata": {},
   "source": [
    "### 3. What do the functions os.getcwd() and os.chdir() do?"
   ]
  },
  {
   "cell_type": "markdown",
   "id": "0770d482",
   "metadata": {},
   "source": [
    "os.getcwd() is used to get Current Working Director.\n",
    "\n",
    "os.chdir() is used to changes the current working directory."
   ]
  },
  {
   "cell_type": "markdown",
   "id": "bf73221d",
   "metadata": {},
   "source": [
    "### 4. What are the . and .. folders?"
   ]
  },
  {
   "cell_type": "markdown",
   "id": "9a3a31eb",
   "metadata": {},
   "source": [
    "The . folder is the current folder, and .. is the parent folder"
   ]
  },
  {
   "cell_type": "markdown",
   "id": "956d64a7",
   "metadata": {},
   "source": [
    "### 5. In C:\\bacon\\eggs\\spam.txt, which part is the dir name, and which part is the base name"
   ]
  },
  {
   "cell_type": "markdown",
   "id": "bad26950",
   "metadata": {},
   "source": [
    "dir name is C:\\bacon\\eggs\n",
    "\n",
    "base name is spam.txt"
   ]
  },
  {
   "cell_type": "markdown",
   "id": "38e98ccb",
   "metadata": {},
   "source": [
    "### 6. What are the three “mode” arguments that can be passed to the open() function?"
   ]
  },
  {
   "cell_type": "markdown",
   "id": "944632bc",
   "metadata": {},
   "source": [
    "'r' for read mode\n",
    "\n",
    "'w' for write mode\n",
    "\n",
    "'a' for append mode"
   ]
  },
  {
   "cell_type": "markdown",
   "id": "8e28f954",
   "metadata": {},
   "source": [
    "### 7. What happens if an existing file is opened in write mode?"
   ]
  },
  {
   "cell_type": "markdown",
   "id": "3b3b0d68",
   "metadata": {},
   "source": [
    "An existing file opened in write mode is erased and completely overwritten"
   ]
  },
  {
   "cell_type": "markdown",
   "id": "e733f39f",
   "metadata": {},
   "source": [
    "### 8. How do you tell the difference between read() and readlines()?"
   ]
  },
  {
   "cell_type": "markdown",
   "id": "fdccb914",
   "metadata": {},
   "source": [
    "The read() method returns the contents of file as a single string value.\n",
    "\n",
    "The readlines() method returns a list of strings, where each string is a line from the file’s contents."
   ]
  },
  {
   "cell_type": "markdown",
   "id": "dcc53a62",
   "metadata": {},
   "source": [
    "### 9. What data structure does a shelf value resemble?"
   ]
  },
  {
   "cell_type": "markdown",
   "id": "191e3df9",
   "metadata": {},
   "source": [
    "A shelf value resembles a dictionary value; it has keys and values, along with keys() and values() methods that work similarly to the dictionary methods of the same names."
   ]
  },
  {
   "cell_type": "code",
   "execution_count": null,
   "id": "71f14928",
   "metadata": {},
   "outputs": [],
   "source": []
  }
 ],
 "metadata": {
  "kernelspec": {
   "display_name": "Python 3",
   "language": "python",
   "name": "python3"
  },
  "language_info": {
   "codemirror_mode": {
    "name": "ipython",
    "version": 3
   },
   "file_extension": ".py",
   "mimetype": "text/x-python",
   "name": "python",
   "nbconvert_exporter": "python",
   "pygments_lexer": "ipython3",
   "version": "3.8.8"
  }
 },
 "nbformat": 4,
 "nbformat_minor": 5
}
